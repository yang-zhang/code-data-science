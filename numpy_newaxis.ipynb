{
 "cells": [
  {
   "cell_type": "code",
   "execution_count": 95,
   "metadata": {
    "collapsed": true
   },
   "outputs": [],
   "source": [
    "import numpy as np"
   ]
  },
  {
   "cell_type": "code",
   "execution_count": 96,
   "metadata": {
    "collapsed": true
   },
   "outputs": [],
   "source": [
    "def show_array(y):\n",
    "    print('array:', y)\n",
    "    print('array.ndim:', y.ndim)\n",
    "    print('array.shape:', y.shape)"
   ]
  },
  {
   "cell_type": "markdown",
   "metadata": {},
   "source": [
    "### 0-D"
   ]
  },
  {
   "cell_type": "code",
   "execution_count": 97,
   "metadata": {
    "collapsed": false,
    "scrolled": false
   },
   "outputs": [
    {
     "name": "stdout",
     "output_type": "stream",
     "text": [
      "array: 5\n",
      "array.ndim: 0\n",
      "array.shape: ()\n"
     ]
    }
   ],
   "source": [
    "x = np.array(5)\n",
    "show_array(x)"
   ]
  },
  {
   "cell_type": "markdown",
   "metadata": {},
   "source": [
    "#### 0-D to 1-D"
   ]
  },
  {
   "cell_type": "code",
   "execution_count": 98,
   "metadata": {
    "collapsed": false,
    "scrolled": false
   },
   "outputs": [
    {
     "name": "stdout",
     "output_type": "stream",
     "text": [
      "array: [5]\n",
      "array.ndim: 1\n",
      "array.shape: (1,)\n"
     ]
    }
   ],
   "source": [
    "y = np.array(x)[np.newaxis]\n",
    "show_array(y)"
   ]
  },
  {
   "cell_type": "code",
   "execution_count": 99,
   "metadata": {
    "collapsed": false,
    "scrolled": false
   },
   "outputs": [
    {
     "name": "stdout",
     "output_type": "stream",
     "text": [
      "array: [5]\n",
      "array.ndim: 1\n",
      "array.shape: (1,)\n"
     ]
    }
   ],
   "source": [
    "y = np.expand_dims(x, axis=0)\n",
    "show_array(y)"
   ]
  },
  {
   "cell_type": "markdown",
   "metadata": {},
   "source": [
    "Any number >= 0 does the same."
   ]
  },
  {
   "cell_type": "code",
   "execution_count": 100,
   "metadata": {
    "collapsed": false,
    "scrolled": false
   },
   "outputs": [
    {
     "name": "stdout",
     "output_type": "stream",
     "text": [
      "array: [5]\n",
      "array.ndim: 1\n",
      "array.shape: (1,)\n"
     ]
    }
   ],
   "source": [
    "y = np.expand_dims(x, axis=123456)\n",
    "show_array(y)"
   ]
  },
  {
   "cell_type": "code",
   "execution_count": 101,
   "metadata": {
    "collapsed": false,
    "scrolled": true
   },
   "outputs": [
    {
     "name": "stdout",
     "output_type": "stream",
     "text": [
      "array: [5]\n",
      "array.ndim: 1\n",
      "array.shape: (1,)\n"
     ]
    }
   ],
   "source": [
    "y = x.reshape(-1,)\n",
    "show_array(y)"
   ]
  },
  {
   "cell_type": "markdown",
   "metadata": {},
   "source": [
    "#### 0-D to 2-D"
   ]
  },
  {
   "cell_type": "code",
   "execution_count": 102,
   "metadata": {
    "collapsed": false,
    "scrolled": false
   },
   "outputs": [
    {
     "name": "stdout",
     "output_type": "stream",
     "text": [
      "array: [[5]]\n",
      "array.ndim: 2\n",
      "array.shape: (1, 1)\n"
     ]
    }
   ],
   "source": [
    "y = np.array(x)[np.newaxis, np.newaxis]\n",
    "show_array(y)"
   ]
  },
  {
   "cell_type": "code",
   "execution_count": 103,
   "metadata": {
    "collapsed": false,
    "scrolled": true
   },
   "outputs": [
    {
     "name": "stdout",
     "output_type": "stream",
     "text": [
      "array: [[5]]\n",
      "array.ndim: 2\n",
      "array.shape: (1, 1)\n"
     ]
    }
   ],
   "source": [
    "y = np.expand_dims(x, axis=0)\n",
    "y = np.expand_dims(y, axis=0)\n",
    "show_array(y)"
   ]
  },
  {
   "cell_type": "code",
   "execution_count": 104,
   "metadata": {
    "collapsed": false,
    "scrolled": true
   },
   "outputs": [
    {
     "name": "stdout",
     "output_type": "stream",
     "text": [
      "array: [[5]]\n",
      "array.ndim: 2\n",
      "array.shape: (1, 1)\n"
     ]
    }
   ],
   "source": [
    "y = x.reshape(-1, 1)\n",
    "show_array(y)"
   ]
  },
  {
   "cell_type": "markdown",
   "metadata": {},
   "source": [
    "### 1-D"
   ]
  },
  {
   "cell_type": "code",
   "execution_count": 105,
   "metadata": {
    "collapsed": false,
    "scrolled": true
   },
   "outputs": [
    {
     "name": "stdout",
     "output_type": "stream",
     "text": [
      "array: [5 6 7]\n",
      "array.ndim: 1\n",
      "array.shape: (3,)\n"
     ]
    }
   ],
   "source": [
    "x = np.array([5, 6, 7])\n",
    "show_array(x)"
   ]
  },
  {
   "cell_type": "markdown",
   "metadata": {},
   "source": [
    "#### 1-D to 2-D"
   ]
  },
  {
   "cell_type": "markdown",
   "metadata": {},
   "source": [
    "##### Vector to row matrix"
   ]
  },
  {
   "cell_type": "code",
   "execution_count": 106,
   "metadata": {
    "collapsed": false,
    "scrolled": false
   },
   "outputs": [
    {
     "name": "stdout",
     "output_type": "stream",
     "text": [
      "array: [[5 6 7]]\n",
      "array.ndim: 2\n",
      "array.shape: (1, 3)\n"
     ]
    }
   ],
   "source": [
    "y = np.array(x)[np.newaxis, :]\n",
    "show_array(y)"
   ]
  },
  {
   "cell_type": "code",
   "execution_count": 107,
   "metadata": {
    "collapsed": false,
    "scrolled": false
   },
   "outputs": [
    {
     "name": "stdout",
     "output_type": "stream",
     "text": [
      "array: [[5 6 7]]\n",
      "array.ndim: 2\n",
      "array.shape: (1, 3)\n"
     ]
    }
   ],
   "source": [
    "y = np.array(x)[np.newaxis] # This is short hand of y = np.array(x)[np.newaxis, :]\n",
    "show_array(y)"
   ]
  },
  {
   "cell_type": "code",
   "execution_count": 108,
   "metadata": {
    "collapsed": false,
    "scrolled": true
   },
   "outputs": [
    {
     "name": "stdout",
     "output_type": "stream",
     "text": [
      "array: [[5 6 7]]\n",
      "array.ndim: 2\n",
      "array.shape: (1, 3)\n"
     ]
    }
   ],
   "source": [
    "y = np.expand_dims(x, axis=0)\n",
    "show_array(y)"
   ]
  },
  {
   "cell_type": "code",
   "execution_count": 109,
   "metadata": {
    "collapsed": false,
    "scrolled": true
   },
   "outputs": [
    {
     "name": "stdout",
     "output_type": "stream",
     "text": [
      "array: [[5 6 7]]\n",
      "array.ndim: 2\n",
      "array.shape: (1, 3)\n"
     ]
    }
   ],
   "source": [
    "y = x.reshape(1, -1)\n",
    "show_array(y)"
   ]
  },
  {
   "cell_type": "markdown",
   "metadata": {},
   "source": [
    "##### Vector to column matrix"
   ]
  },
  {
   "cell_type": "code",
   "execution_count": 110,
   "metadata": {
    "collapsed": false,
    "scrolled": false
   },
   "outputs": [
    {
     "name": "stdout",
     "output_type": "stream",
     "text": [
      "array: [[5]\n",
      " [6]\n",
      " [7]]\n",
      "array.ndim: 2\n",
      "array.shape: (3, 1)\n"
     ]
    }
   ],
   "source": [
    "y = np.array(x)[:, np.newaxis]\n",
    "show_array(y)"
   ]
  },
  {
   "cell_type": "code",
   "execution_count": 111,
   "metadata": {
    "collapsed": false,
    "scrolled": true
   },
   "outputs": [
    {
     "name": "stdout",
     "output_type": "stream",
     "text": [
      "array: [[5]\n",
      " [6]\n",
      " [7]]\n",
      "array.ndim: 2\n",
      "array.shape: (3, 1)\n"
     ]
    }
   ],
   "source": [
    "y = np.expand_dims(x, axis=1)\n",
    "show_array(y)"
   ]
  },
  {
   "cell_type": "markdown",
   "metadata": {},
   "source": [
    "Any number >= 1 does the same."
   ]
  },
  {
   "cell_type": "code",
   "execution_count": 112,
   "metadata": {
    "collapsed": false,
    "scrolled": true
   },
   "outputs": [
    {
     "name": "stdout",
     "output_type": "stream",
     "text": [
      "array: [[5]\n",
      " [6]\n",
      " [7]]\n",
      "array.ndim: 2\n",
      "array.shape: (3, 1)\n"
     ]
    }
   ],
   "source": [
    "y = np.expand_dims(x, axis=123456)\n",
    "show_array(y)"
   ]
  },
  {
   "cell_type": "code",
   "execution_count": 113,
   "metadata": {
    "collapsed": false,
    "scrolled": true
   },
   "outputs": [
    {
     "name": "stdout",
     "output_type": "stream",
     "text": [
      "array: [[5]\n",
      " [6]\n",
      " [7]]\n",
      "array.ndim: 2\n",
      "array.shape: (3, 1)\n"
     ]
    }
   ],
   "source": [
    "y = x.reshape(-1, 1)\n",
    "show_array(y)"
   ]
  },
  {
   "cell_type": "markdown",
   "metadata": {},
   "source": [
    "### 2-D"
   ]
  },
  {
   "cell_type": "code",
   "execution_count": 114,
   "metadata": {
    "collapsed": false
   },
   "outputs": [
    {
     "name": "stdout",
     "output_type": "stream",
     "text": [
      "array: [[1 2 3]\n",
      " [4 5 6]]\n",
      "array.ndim: 2\n",
      "array.shape: (2, 3)\n"
     ]
    }
   ],
   "source": [
    "x = np.array([[1, 2, 3], [4, 5, 6]])\n",
    "show_array(x)"
   ]
  },
  {
   "cell_type": "markdown",
   "metadata": {},
   "source": [
    "#### 2-D to 3-D"
   ]
  },
  {
   "cell_type": "markdown",
   "metadata": {},
   "source": [
    "##### Case 1"
   ]
  },
  {
   "cell_type": "code",
   "execution_count": 115,
   "metadata": {
    "collapsed": false,
    "scrolled": true
   },
   "outputs": [
    {
     "name": "stdout",
     "output_type": "stream",
     "text": [
      "array: [[[1 2 3]\n",
      "  [4 5 6]]]\n",
      "array.ndim: 3\n",
      "array.shape: (1, 2, 3)\n"
     ]
    }
   ],
   "source": [
    "y = np.array(x)[np.newaxis, :, :]\n",
    "show_array(y)"
   ]
  },
  {
   "cell_type": "code",
   "execution_count": 116,
   "metadata": {
    "collapsed": false,
    "scrolled": true
   },
   "outputs": [
    {
     "name": "stdout",
     "output_type": "stream",
     "text": [
      "array: [[[1 2 3]\n",
      "  [4 5 6]]]\n",
      "array.ndim: 3\n",
      "array.shape: (1, 2, 3)\n"
     ]
    }
   ],
   "source": [
    "y = np.array(x)[np.newaxis, :]\n",
    "show_array(y)"
   ]
  },
  {
   "cell_type": "code",
   "execution_count": 117,
   "metadata": {
    "collapsed": false,
    "scrolled": true
   },
   "outputs": [
    {
     "name": "stdout",
     "output_type": "stream",
     "text": [
      "array: [[[1 2 3]\n",
      "  [4 5 6]]]\n",
      "array.ndim: 3\n",
      "array.shape: (1, 2, 3)\n"
     ]
    }
   ],
   "source": [
    "y = np.array(x)[np.newaxis]\n",
    "show_array(y)"
   ]
  },
  {
   "cell_type": "code",
   "execution_count": 118,
   "metadata": {
    "collapsed": false,
    "scrolled": true
   },
   "outputs": [
    {
     "name": "stdout",
     "output_type": "stream",
     "text": [
      "array: [[[1 2 3]\n",
      "  [4 5 6]]]\n",
      "array.ndim: 3\n",
      "array.shape: (1, 2, 3)\n"
     ]
    }
   ],
   "source": [
    "y = np.expand_dims(x, axis=0)\n",
    "show_array(y)"
   ]
  },
  {
   "cell_type": "code",
   "execution_count": 119,
   "metadata": {
    "collapsed": false,
    "scrolled": true
   },
   "outputs": [
    {
     "name": "stdout",
     "output_type": "stream",
     "text": [
      "array: [[[1 2 3]\n",
      "  [4 5 6]]]\n",
      "array.ndim: 3\n",
      "array.shape: (1, 2, 3)\n"
     ]
    }
   ],
   "source": [
    "y = x.reshape(-1, 2, 3)\n",
    "show_array(y)"
   ]
  },
  {
   "cell_type": "code",
   "execution_count": 126,
   "metadata": {
    "collapsed": false,
    "scrolled": false
   },
   "outputs": [
    {
     "name": "stdout",
     "output_type": "stream",
     "text": [
      "array: [[[1 2 3]\n",
      "  [4 5 6]]]\n",
      "array.ndim: 3\n",
      "array.shape: (1, 2, 3)\n"
     ]
    }
   ],
   "source": [
    "y = x.reshape(-1, *x.shape)\n",
    "show_array(y)"
   ]
  },
  {
   "cell_type": "markdown",
   "metadata": {},
   "source": [
    "##### Case 2"
   ]
  },
  {
   "cell_type": "code",
   "execution_count": 121,
   "metadata": {
    "collapsed": false
   },
   "outputs": [
    {
     "name": "stdout",
     "output_type": "stream",
     "text": [
      "array: [[[1 2 3]]\n",
      "\n",
      " [[4 5 6]]]\n",
      "array.ndim: 3\n",
      "array.shape: (2, 1, 3)\n"
     ]
    }
   ],
   "source": [
    "y = np.array(x)[:, np.newaxis, :]\n",
    "show_array(y)"
   ]
  },
  {
   "cell_type": "code",
   "execution_count": 122,
   "metadata": {
    "collapsed": false
   },
   "outputs": [
    {
     "name": "stdout",
     "output_type": "stream",
     "text": [
      "array: [[[1 2 3]]\n",
      "\n",
      " [[4 5 6]]]\n",
      "array.ndim: 3\n",
      "array.shape: (2, 1, 3)\n"
     ]
    }
   ],
   "source": [
    "y = np.array(x)[:, np.newaxis]\n",
    "show_array(y)"
   ]
  },
  {
   "cell_type": "code",
   "execution_count": 123,
   "metadata": {
    "collapsed": false,
    "scrolled": true
   },
   "outputs": [
    {
     "name": "stdout",
     "output_type": "stream",
     "text": [
      "array: [[[1 2 3]]\n",
      "\n",
      " [[4 5 6]]]\n",
      "array.ndim: 3\n",
      "array.shape: (2, 1, 3)\n"
     ]
    }
   ],
   "source": [
    "y = np.expand_dims(x, axis=1)\n",
    "show_array(y)"
   ]
  },
  {
   "cell_type": "code",
   "execution_count": 124,
   "metadata": {
    "collapsed": false,
    "scrolled": false
   },
   "outputs": [
    {
     "name": "stdout",
     "output_type": "stream",
     "text": [
      "array: [[[1 2 3]]\n",
      "\n",
      " [[4 5 6]]]\n",
      "array.ndim: 3\n",
      "array.shape: (2, 1, 3)\n"
     ]
    }
   ],
   "source": [
    "y = x.reshape(2, 1, 3)\n",
    "show_array(y)"
   ]
  },
  {
   "cell_type": "code",
   "execution_count": 127,
   "metadata": {
    "collapsed": false,
    "scrolled": false
   },
   "outputs": [
    {
     "name": "stdout",
     "output_type": "stream",
     "text": [
      "array: [[[1 2 3]]\n",
      "\n",
      " [[4 5 6]]]\n",
      "array.ndim: 3\n",
      "array.shape: (2, 1, 3)\n"
     ]
    }
   ],
   "source": [
    "y = x.reshape(x.shape[0], -1, x.shape[1])\n",
    "show_array(y)"
   ]
  },
  {
   "cell_type": "markdown",
   "metadata": {},
   "source": [
    "##### Case 3"
   ]
  },
  {
   "cell_type": "code",
   "execution_count": 24,
   "metadata": {
    "collapsed": false
   },
   "outputs": [
    {
     "name": "stdout",
     "output_type": "stream",
     "text": [
      "array: [[[1]\n",
      "  [2]\n",
      "  [3]]\n",
      "\n",
      " [[4]\n",
      "  [5]\n",
      "  [6]]]\n",
      "array.ndim: 3\n",
      "array.shape: (2, 3, 1)\n"
     ]
    }
   ],
   "source": [
    "y = np.array(x)[:, :, np.newaxis]\n",
    "show_array(y)"
   ]
  },
  {
   "cell_type": "code",
   "execution_count": 25,
   "metadata": {
    "collapsed": false
   },
   "outputs": [
    {
     "name": "stdout",
     "output_type": "stream",
     "text": [
      "array: [[[1]\n",
      "  [2]\n",
      "  [3]]\n",
      "\n",
      " [[4]\n",
      "  [5]\n",
      "  [6]]]\n",
      "array.ndim: 3\n",
      "array.shape: (2, 3, 1)\n"
     ]
    }
   ],
   "source": [
    "y = np.expand_dims(x, axis=2)\n",
    "show_array(y)"
   ]
  },
  {
   "cell_type": "markdown",
   "metadata": {},
   "source": [
    "Any number >= 2 does the same."
   ]
  },
  {
   "cell_type": "code",
   "execution_count": 26,
   "metadata": {
    "collapsed": false,
    "scrolled": true
   },
   "outputs": [
    {
     "name": "stdout",
     "output_type": "stream",
     "text": [
      "array: [[[1]\n",
      "  [2]\n",
      "  [3]]\n",
      "\n",
      " [[4]\n",
      "  [5]\n",
      "  [6]]]\n",
      "array.ndim: 3\n",
      "array.shape: (2, 3, 1)\n"
     ]
    }
   ],
   "source": [
    "y = np.expand_dims(x, axis=123456)\n",
    "show_array(y)"
   ]
  },
  {
   "cell_type": "code",
   "execution_count": 128,
   "metadata": {
    "collapsed": false,
    "scrolled": false
   },
   "outputs": [
    {
     "name": "stdout",
     "output_type": "stream",
     "text": [
      "array: [[[1]\n",
      "  [2]\n",
      "  [3]]\n",
      "\n",
      " [[4]\n",
      "  [5]\n",
      "  [6]]]\n",
      "array.ndim: 3\n",
      "array.shape: (2, 3, 1)\n"
     ]
    }
   ],
   "source": [
    "y = x.reshape(*x.shape, -1)\n",
    "show_array(y)"
   ]
  },
  {
   "cell_type": "code",
   "execution_count": null,
   "metadata": {
    "collapsed": true
   },
   "outputs": [],
   "source": []
  }
 ],
 "metadata": {
  "kernelspec": {
   "display_name": "Python 3",
   "language": "python",
   "name": "python3"
  },
  "language_info": {
   "codemirror_mode": {
    "name": "ipython",
    "version": 3
   },
   "file_extension": ".py",
   "mimetype": "text/x-python",
   "name": "python",
   "nbconvert_exporter": "python",
   "pygments_lexer": "ipython3",
   "version": "3.6.0"
  },
  "toc": {
   "colors": {
    "hover_highlight": "#DAA520",
    "running_highlight": "#FF0000",
    "selected_highlight": "#FFD700"
   },
   "moveMenuLeft": true,
   "nav_menu": {
    "height": "233px",
    "width": "252px"
   },
   "navigate_menu": true,
   "number_sections": true,
   "sideBar": true,
   "threshold": 4,
   "toc_cell": false,
   "toc_section_display": "block",
   "toc_window_display": true,
   "widenNotebook": false
  }
 },
 "nbformat": 4,
 "nbformat_minor": 2
}
