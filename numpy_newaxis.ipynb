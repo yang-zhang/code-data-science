{
 "cells": [
  {
   "cell_type": "code",
   "execution_count": 1,
   "metadata": {
    "collapsed": true
   },
   "outputs": [],
   "source": [
    "import numpy as np"
   ]
  },
  {
   "cell_type": "code",
   "execution_count": 2,
   "metadata": {
    "collapsed": true
   },
   "outputs": [],
   "source": [
    "def show_array(y):\n",
    "    print('array:', y)\n",
    "    print('array.ndim:', y.ndim)\n",
    "    print('array.shape:', y.shape)"
   ]
  },
  {
   "cell_type": "markdown",
   "metadata": {},
   "source": [
    "### 0-D"
   ]
  },
  {
   "cell_type": "code",
   "execution_count": 3,
   "metadata": {
    "collapsed": false,
    "scrolled": true
   },
   "outputs": [
    {
     "name": "stdout",
     "output_type": "stream",
     "text": [
      "array: 5\n",
      "array.ndim: 0\n",
      "array.shape: ()\n"
     ]
    }
   ],
   "source": [
    "x = np.array(5)\n",
    "show_array(x)"
   ]
  },
  {
   "cell_type": "markdown",
   "metadata": {},
   "source": [
    "#### 0-D to 1-D"
   ]
  },
  {
   "cell_type": "code",
   "execution_count": 4,
   "metadata": {
    "collapsed": false,
    "scrolled": false
   },
   "outputs": [
    {
     "name": "stdout",
     "output_type": "stream",
     "text": [
      "array: [5]\n",
      "array.ndim: 1\n",
      "array.shape: (1,)\n"
     ]
    }
   ],
   "source": [
    "y = np.array(x)[np.newaxis]\n",
    "show_array(y)"
   ]
  },
  {
   "cell_type": "code",
   "execution_count": 5,
   "metadata": {
    "collapsed": false,
    "scrolled": false
   },
   "outputs": [
    {
     "name": "stdout",
     "output_type": "stream",
     "text": [
      "array: [5]\n",
      "array.ndim: 1\n",
      "array.shape: (1,)\n"
     ]
    }
   ],
   "source": [
    "y = np.expand_dims(x, axis=0)\n",
    "show_array(y)"
   ]
  },
  {
   "cell_type": "markdown",
   "metadata": {},
   "source": [
    "Any number >= 0 does the same."
   ]
  },
  {
   "cell_type": "code",
   "execution_count": 6,
   "metadata": {
    "collapsed": false,
    "scrolled": false
   },
   "outputs": [
    {
     "name": "stdout",
     "output_type": "stream",
     "text": [
      "array: [5]\n",
      "array.ndim: 1\n",
      "array.shape: (1,)\n"
     ]
    }
   ],
   "source": [
    "y = np.expand_dims(x, axis=123456)\n",
    "show_array(y)"
   ]
  },
  {
   "cell_type": "markdown",
   "metadata": {},
   "source": [
    "#### 0-D to 2-D"
   ]
  },
  {
   "cell_type": "code",
   "execution_count": 7,
   "metadata": {
    "collapsed": false,
    "scrolled": false
   },
   "outputs": [
    {
     "name": "stdout",
     "output_type": "stream",
     "text": [
      "array: [[5]]\n",
      "array.ndim: 2\n",
      "array.shape: (1, 1)\n"
     ]
    }
   ],
   "source": [
    "y = np.array(x)[np.newaxis, np.newaxis]\n",
    "show_array(y)"
   ]
  },
  {
   "cell_type": "code",
   "execution_count": 8,
   "metadata": {
    "collapsed": false
   },
   "outputs": [
    {
     "name": "stdout",
     "output_type": "stream",
     "text": [
      "array: [[5]]\n",
      "array.ndim: 2\n",
      "array.shape: (1, 1)\n"
     ]
    }
   ],
   "source": [
    "y = np.expand_dims(x, axis=0)\n",
    "y = np.expand_dims(y, axis=0)\n",
    "show_array(y)"
   ]
  },
  {
   "cell_type": "markdown",
   "metadata": {},
   "source": [
    "### 1-D"
   ]
  },
  {
   "cell_type": "code",
   "execution_count": 9,
   "metadata": {
    "collapsed": false
   },
   "outputs": [
    {
     "name": "stdout",
     "output_type": "stream",
     "text": [
      "array: [5 6 7]\n",
      "array.ndim: 1\n",
      "array.shape: (3,)\n"
     ]
    }
   ],
   "source": [
    "x = np.array([5, 6, 7])\n",
    "show_array(x)"
   ]
  },
  {
   "cell_type": "markdown",
   "metadata": {},
   "source": [
    "#### 1-D to 2-D"
   ]
  },
  {
   "cell_type": "markdown",
   "metadata": {},
   "source": [
    "##### Vector to row matrix"
   ]
  },
  {
   "cell_type": "code",
   "execution_count": 10,
   "metadata": {
    "collapsed": false,
    "scrolled": true
   },
   "outputs": [
    {
     "name": "stdout",
     "output_type": "stream",
     "text": [
      "array: [[5 6 7]]\n",
      "array.ndim: 2\n",
      "array.shape: (1, 3)\n"
     ]
    }
   ],
   "source": [
    "y = np.array(x)[np.newaxis, :]\n",
    "show_array(y)"
   ]
  },
  {
   "cell_type": "code",
   "execution_count": 11,
   "metadata": {
    "collapsed": false,
    "scrolled": true
   },
   "outputs": [
    {
     "name": "stdout",
     "output_type": "stream",
     "text": [
      "array: [[5 6 7]]\n",
      "array.ndim: 2\n",
      "array.shape: (1, 3)\n"
     ]
    }
   ],
   "source": [
    "y = np.array(x)[np.newaxis] # This is short hand of y = np.array(x)[np.newaxis, :]\n",
    "show_array(y)"
   ]
  },
  {
   "cell_type": "code",
   "execution_count": 12,
   "metadata": {
    "collapsed": false
   },
   "outputs": [
    {
     "name": "stdout",
     "output_type": "stream",
     "text": [
      "array: [[5 6 7]]\n",
      "array.ndim: 2\n",
      "array.shape: (1, 3)\n"
     ]
    }
   ],
   "source": [
    "y = np.expand_dims(x, axis=0)\n",
    "show_array(y)"
   ]
  },
  {
   "cell_type": "markdown",
   "metadata": {},
   "source": [
    "##### Vector to column matrix"
   ]
  },
  {
   "cell_type": "code",
   "execution_count": 13,
   "metadata": {
    "collapsed": false,
    "scrolled": false
   },
   "outputs": [
    {
     "name": "stdout",
     "output_type": "stream",
     "text": [
      "array: [[5]\n",
      " [6]\n",
      " [7]]\n",
      "array.ndim: 2\n",
      "array.shape: (3, 1)\n"
     ]
    }
   ],
   "source": [
    "y = np.array(x)[:, np.newaxis]\n",
    "show_array(y)"
   ]
  },
  {
   "cell_type": "code",
   "execution_count": 14,
   "metadata": {
    "collapsed": false,
    "scrolled": true
   },
   "outputs": [
    {
     "name": "stdout",
     "output_type": "stream",
     "text": [
      "array: [[5]\n",
      " [6]\n",
      " [7]]\n",
      "array.ndim: 2\n",
      "array.shape: (3, 1)\n"
     ]
    }
   ],
   "source": [
    "y = np.expand_dims(x, axis=1)\n",
    "show_array(y)"
   ]
  },
  {
   "cell_type": "markdown",
   "metadata": {},
   "source": [
    "Any number >= 1 does the same."
   ]
  },
  {
   "cell_type": "code",
   "execution_count": 15,
   "metadata": {
    "collapsed": false
   },
   "outputs": [
    {
     "name": "stdout",
     "output_type": "stream",
     "text": [
      "array: [[5]\n",
      " [6]\n",
      " [7]]\n",
      "array.ndim: 2\n",
      "array.shape: (3, 1)\n"
     ]
    }
   ],
   "source": [
    "y = np.expand_dims(x, axis=123456)\n",
    "show_array(y)"
   ]
  },
  {
   "cell_type": "markdown",
   "metadata": {},
   "source": [
    "### 2-D"
   ]
  },
  {
   "cell_type": "code",
   "execution_count": 16,
   "metadata": {
    "collapsed": false
   },
   "outputs": [
    {
     "name": "stdout",
     "output_type": "stream",
     "text": [
      "array: [[1 2 3]\n",
      " [4 5 6]]\n",
      "array.ndim: 2\n",
      "array.shape: (2, 3)\n"
     ]
    }
   ],
   "source": [
    "x = np.array([[1, 2, 3], [4, 5, 6]])\n",
    "show_array(x)"
   ]
  },
  {
   "cell_type": "markdown",
   "metadata": {},
   "source": [
    "#### 2-D to 3-D"
   ]
  },
  {
   "cell_type": "markdown",
   "metadata": {},
   "source": [
    "##### Case 1"
   ]
  },
  {
   "cell_type": "code",
   "execution_count": 17,
   "metadata": {
    "collapsed": false,
    "scrolled": false
   },
   "outputs": [
    {
     "name": "stdout",
     "output_type": "stream",
     "text": [
      "array: [[[1 2 3]\n",
      "  [4 5 6]]]\n",
      "array.ndim: 3\n",
      "array.shape: (1, 2, 3)\n"
     ]
    }
   ],
   "source": [
    "y = np.array(x)[np.newaxis, :, :]\n",
    "show_array(y)"
   ]
  },
  {
   "cell_type": "code",
   "execution_count": 18,
   "metadata": {
    "collapsed": false,
    "scrolled": true
   },
   "outputs": [
    {
     "name": "stdout",
     "output_type": "stream",
     "text": [
      "array: [[[1 2 3]\n",
      "  [4 5 6]]]\n",
      "array.ndim: 3\n",
      "array.shape: (1, 2, 3)\n"
     ]
    }
   ],
   "source": [
    "y = np.array(x)[np.newaxis, :]\n",
    "show_array(y)"
   ]
  },
  {
   "cell_type": "code",
   "execution_count": 19,
   "metadata": {
    "collapsed": false,
    "scrolled": false
   },
   "outputs": [
    {
     "name": "stdout",
     "output_type": "stream",
     "text": [
      "array: [[[1 2 3]\n",
      "  [4 5 6]]]\n",
      "array.ndim: 3\n",
      "array.shape: (1, 2, 3)\n"
     ]
    }
   ],
   "source": [
    "y = np.array(x)[np.newaxis]\n",
    "show_array(y)"
   ]
  },
  {
   "cell_type": "code",
   "execution_count": 20,
   "metadata": {
    "collapsed": false,
    "scrolled": false
   },
   "outputs": [
    {
     "name": "stdout",
     "output_type": "stream",
     "text": [
      "array: [[[1 2 3]\n",
      "  [4 5 6]]]\n",
      "array.ndim: 3\n",
      "array.shape: (1, 2, 3)\n"
     ]
    }
   ],
   "source": [
    "y = np.expand_dims(x, axis=0)\n",
    "show_array(y)"
   ]
  },
  {
   "cell_type": "markdown",
   "metadata": {},
   "source": [
    "##### Case 2"
   ]
  },
  {
   "cell_type": "code",
   "execution_count": 21,
   "metadata": {
    "collapsed": false
   },
   "outputs": [
    {
     "name": "stdout",
     "output_type": "stream",
     "text": [
      "array: [[[1 2 3]]\n",
      "\n",
      " [[4 5 6]]]\n",
      "array.ndim: 3\n",
      "array.shape: (2, 1, 3)\n"
     ]
    }
   ],
   "source": [
    "y = np.array(x)[:, np.newaxis, :]\n",
    "show_array(y)"
   ]
  },
  {
   "cell_type": "code",
   "execution_count": 22,
   "metadata": {
    "collapsed": false
   },
   "outputs": [
    {
     "name": "stdout",
     "output_type": "stream",
     "text": [
      "array: [[[1 2 3]]\n",
      "\n",
      " [[4 5 6]]]\n",
      "array.ndim: 3\n",
      "array.shape: (2, 1, 3)\n"
     ]
    }
   ],
   "source": [
    "y = np.array(x)[:, np.newaxis]\n",
    "show_array(y)"
   ]
  },
  {
   "cell_type": "code",
   "execution_count": 23,
   "metadata": {
    "collapsed": false,
    "scrolled": true
   },
   "outputs": [
    {
     "name": "stdout",
     "output_type": "stream",
     "text": [
      "array: [[[1 2 3]]\n",
      "\n",
      " [[4 5 6]]]\n",
      "array.ndim: 3\n",
      "array.shape: (2, 1, 3)\n"
     ]
    }
   ],
   "source": [
    "y = np.expand_dims(x, axis=1)\n",
    "show_array(y)"
   ]
  },
  {
   "cell_type": "markdown",
   "metadata": {},
   "source": [
    "##### Case 3"
   ]
  },
  {
   "cell_type": "code",
   "execution_count": 24,
   "metadata": {
    "collapsed": false
   },
   "outputs": [
    {
     "name": "stdout",
     "output_type": "stream",
     "text": [
      "array: [[[1]\n",
      "  [2]\n",
      "  [3]]\n",
      "\n",
      " [[4]\n",
      "  [5]\n",
      "  [6]]]\n",
      "array.ndim: 3\n",
      "array.shape: (2, 3, 1)\n"
     ]
    }
   ],
   "source": [
    "y = np.array(x)[:, :, np.newaxis]\n",
    "show_array(y)"
   ]
  },
  {
   "cell_type": "code",
   "execution_count": 25,
   "metadata": {
    "collapsed": false
   },
   "outputs": [
    {
     "name": "stdout",
     "output_type": "stream",
     "text": [
      "array: [[[1]\n",
      "  [2]\n",
      "  [3]]\n",
      "\n",
      " [[4]\n",
      "  [5]\n",
      "  [6]]]\n",
      "array.ndim: 3\n",
      "array.shape: (2, 3, 1)\n"
     ]
    }
   ],
   "source": [
    "y = np.expand_dims(x, axis=2)\n",
    "show_array(y)"
   ]
  },
  {
   "cell_type": "markdown",
   "metadata": {},
   "source": [
    "Any number >= 2 does the same."
   ]
  },
  {
   "cell_type": "code",
   "execution_count": 26,
   "metadata": {
    "collapsed": false
   },
   "outputs": [
    {
     "name": "stdout",
     "output_type": "stream",
     "text": [
      "array: [[[1]\n",
      "  [2]\n",
      "  [3]]\n",
      "\n",
      " [[4]\n",
      "  [5]\n",
      "  [6]]]\n",
      "array.ndim: 3\n",
      "array.shape: (2, 3, 1)\n"
     ]
    }
   ],
   "source": [
    "y = np.expand_dims(x, axis=123456)\n",
    "show_array(y)"
   ]
  }
 ],
 "metadata": {
  "kernelspec": {
   "display_name": "Python 3",
   "language": "python",
   "name": "python3"
  },
  "language_info": {
   "codemirror_mode": {
    "name": "ipython",
    "version": 3
   },
   "file_extension": ".py",
   "mimetype": "text/x-python",
   "name": "python",
   "nbconvert_exporter": "python",
   "pygments_lexer": "ipython3",
   "version": "3.6.0"
  },
  "toc": {
   "colors": {
    "hover_highlight": "#DAA520",
    "running_highlight": "#FF0000",
    "selected_highlight": "#FFD700"
   },
   "moveMenuLeft": true,
   "nav_menu": {
    "height": "233px",
    "width": "252px"
   },
   "navigate_menu": true,
   "number_sections": true,
   "sideBar": true,
   "threshold": 4,
   "toc_cell": false,
   "toc_section_display": "block",
   "toc_window_display": true,
   "widenNotebook": false
  }
 },
 "nbformat": 4,
 "nbformat_minor": 2
}
