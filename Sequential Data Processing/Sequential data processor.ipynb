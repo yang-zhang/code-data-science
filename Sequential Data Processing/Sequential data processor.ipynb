{
 "cells": [
  {
   "cell_type": "markdown",
   "metadata": {},
   "source": [
    "## Kaggle example"
   ]
  },
  {
   "cell_type": "markdown",
   "metadata": {},
   "source": [
    "Using data from [Kaggle: Click-Through Rate Prediction](https://www.kaggle.com/c/avazu-ctr-prediction)\n",
    "```\n",
    "$ head -n 100 train > train_head\n",
    "```\n",
    "Learning from the post [Beat the benchmark with less than 1MB of memory.](https://www.kaggle.com/c/avazu-ctr-prediction/discussion/10927)"
   ]
  },
  {
   "cell_type": "code",
   "execution_count": 1,
   "metadata": {
    "collapsed": true
   },
   "outputs": [],
   "source": [
    "from csv import DictReader"
   ]
  },
  {
   "cell_type": "code",
   "execution_count": 2,
   "metadata": {
    "collapsed": false
   },
   "outputs": [
    {
     "name": "stdout",
     "output_type": "stream",
     "text": [
      "Sequential data processor.ipynb  train\r\n"
     ]
    }
   ],
   "source": [
    "ls"
   ]
  },
  {
   "cell_type": "code",
   "execution_count": null,
   "metadata": {
    "collapsed": true
   },
   "outputs": [],
   "source": [
    "list(enumerate(DictReader(open('train_head'))))"
   ]
  },
  {
   "cell_type": "code",
   "execution_count": 7,
   "metadata": {
    "collapsed": false,
    "scrolled": true
   },
   "outputs": [
    {
     "name": "stdout",
     "output_type": "stream",
     "text": [
      "0\n",
      "OrderedDict([('id', '1000009418151094273'), ('click', '0'), ('hour', '14102100'), ('C1', '1005'), ('banner_pos', '0'), ('site_id', '1fbe01fe'), ('site_domain', 'f3845767'), ('site_category', '28905ebd'), ('app_id', 'ecad2386'), ('app_domain', '7801e8d9'), ('app_category', '07d7df22'), ('device_id', 'a99f214a'), ('device_ip', 'ddd2926e'), ('device_model', '44956a24'), ('device_type', '1'), ('device_conn_type', '2'), ('C14', '15706'), ('C15', '320'), ('C16', '50'), ('C17', '1722'), ('C18', '0'), ('C19', '35'), ('C20', '-1'), ('C21', '79')])\n",
      "1\n",
      "OrderedDict([('id', '10000169349117863715'), ('click', '0'), ('hour', '14102100'), ('C1', '1005'), ('banner_pos', '0'), ('site_id', '1fbe01fe'), ('site_domain', 'f3845767'), ('site_category', '28905ebd'), ('app_id', 'ecad2386'), ('app_domain', '7801e8d9'), ('app_category', '07d7df22'), ('device_id', 'a99f214a'), ('device_ip', '96809ac8'), ('device_model', '711ee120'), ('device_type', '1'), ('device_conn_type', '0'), ('C14', '15704'), ('C15', '320'), ('C16', '50'), ('C17', '1722'), ('C18', '0'), ('C19', '35'), ('C20', '100084'), ('C21', '79')])\n",
      "2\n",
      "OrderedDict([('id', '10000371904215119486'), ('click', '0'), ('hour', '14102100'), ('C1', '1005'), ('banner_pos', '0'), ('site_id', '1fbe01fe'), ('site_domain', 'f3845767'), ('site_category', '28905ebd'), ('app_id', 'ecad2386'), ('app_domain', '7801e8d9'), ('app_category', '07d7df22'), ('device_id', 'a99f214a'), ('device_ip', 'b3cf8def'), ('device_model', '8a4875bd'), ('device_type', '1'), ('device_conn_type', '0'), ('C14', '15704'), ('C15', '320'), ('C16', '50'), ('C17', '1722'), ('C18', '0'), ('C19', '35'), ('C20', '100084'), ('C21', '79')])\n"
     ]
    }
   ],
   "source": [
    "for t, row in list(enumerate(DictReader(open('train_head'))))[:3]:\n",
    "    print(t)\n",
    "    print(row)"
   ]
  },
  {
   "cell_type": "code",
   "execution_count": 9,
   "metadata": {
    "collapsed": false,
    "scrolled": true
   },
   "outputs": [
    {
     "data": {
      "text/plain": [
       "OrderedDict([('id', '10000371904215119486'),\n",
       "             ('click', '0'),\n",
       "             ('hour', '14102100'),\n",
       "             ('C1', '1005'),\n",
       "             ('banner_pos', '0'),\n",
       "             ('site_id', '1fbe01fe'),\n",
       "             ('site_domain', 'f3845767'),\n",
       "             ('site_category', '28905ebd'),\n",
       "             ('app_id', 'ecad2386'),\n",
       "             ('app_domain', '7801e8d9'),\n",
       "             ('app_category', '07d7df22'),\n",
       "             ('device_id', 'a99f214a'),\n",
       "             ('device_ip', 'b3cf8def'),\n",
       "             ('device_model', '8a4875bd'),\n",
       "             ('device_type', '1'),\n",
       "             ('device_conn_type', '0'),\n",
       "             ('C14', '15704'),\n",
       "             ('C15', '320'),\n",
       "             ('C16', '50'),\n",
       "             ('C17', '1722'),\n",
       "             ('C18', '0'),\n",
       "             ('C19', '35'),\n",
       "             ('C20', '100084'),\n",
       "             ('C21', '79')])"
      ]
     },
     "execution_count": 9,
     "metadata": {},
     "output_type": "execute_result"
    }
   ],
   "source": [
    "row"
   ]
  },
  {
   "cell_type": "code",
   "execution_count": 10,
   "metadata": {
    "collapsed": true
   },
   "outputs": [],
   "source": [
    "# process id\n",
    "ID = row['id']\n",
    "del row['id']"
   ]
  },
  {
   "cell_type": "code",
   "execution_count": 11,
   "metadata": {
    "collapsed": false
   },
   "outputs": [
    {
     "data": {
      "text/plain": [
       "OrderedDict([('click', '0'),\n",
       "             ('hour', '14102100'),\n",
       "             ('C1', '1005'),\n",
       "             ('banner_pos', '0'),\n",
       "             ('site_id', '1fbe01fe'),\n",
       "             ('site_domain', 'f3845767'),\n",
       "             ('site_category', '28905ebd'),\n",
       "             ('app_id', 'ecad2386'),\n",
       "             ('app_domain', '7801e8d9'),\n",
       "             ('app_category', '07d7df22'),\n",
       "             ('device_id', 'a99f214a'),\n",
       "             ('device_ip', 'b3cf8def'),\n",
       "             ('device_model', '8a4875bd'),\n",
       "             ('device_type', '1'),\n",
       "             ('device_conn_type', '0'),\n",
       "             ('C14', '15704'),\n",
       "             ('C15', '320'),\n",
       "             ('C16', '50'),\n",
       "             ('C17', '1722'),\n",
       "             ('C18', '0'),\n",
       "             ('C19', '35'),\n",
       "             ('C20', '100084'),\n",
       "             ('C21', '79')])"
      ]
     },
     "execution_count": 11,
     "metadata": {},
     "output_type": "execute_result"
    }
   ],
   "source": [
    "row"
   ]
  },
  {
   "cell_type": "code",
   "execution_count": 12,
   "metadata": {
    "collapsed": true
   },
   "outputs": [],
   "source": [
    "# process clicks\n",
    "y = 0.\n",
    "if 'click' in row:\n",
    "    if row['click'] == '1':\n",
    "        y = 1.\n",
    "    del row['click']"
   ]
  },
  {
   "cell_type": "code",
   "execution_count": 13,
   "metadata": {
    "collapsed": false,
    "scrolled": true
   },
   "outputs": [
    {
     "data": {
      "text/plain": [
       "OrderedDict([('hour', '14102100'),\n",
       "             ('C1', '1005'),\n",
       "             ('banner_pos', '0'),\n",
       "             ('site_id', '1fbe01fe'),\n",
       "             ('site_domain', 'f3845767'),\n",
       "             ('site_category', '28905ebd'),\n",
       "             ('app_id', 'ecad2386'),\n",
       "             ('app_domain', '7801e8d9'),\n",
       "             ('app_category', '07d7df22'),\n",
       "             ('device_id', 'a99f214a'),\n",
       "             ('device_ip', 'b3cf8def'),\n",
       "             ('device_model', '8a4875bd'),\n",
       "             ('device_type', '1'),\n",
       "             ('device_conn_type', '0'),\n",
       "             ('C14', '15704'),\n",
       "             ('C15', '320'),\n",
       "             ('C16', '50'),\n",
       "             ('C17', '1722'),\n",
       "             ('C18', '0'),\n",
       "             ('C19', '35'),\n",
       "             ('C20', '100084'),\n",
       "             ('C21', '79')])"
      ]
     },
     "execution_count": 13,
     "metadata": {},
     "output_type": "execute_result"
    }
   ],
   "source": [
    "row"
   ]
  },
  {
   "cell_type": "code",
   "execution_count": 14,
   "metadata": {
    "collapsed": true
   },
   "outputs": [],
   "source": [
    "# turn hour really into hour, it was originally YYMMDDHH\n",
    "row['hour'] = row['hour'][6:]"
   ]
  },
  {
   "cell_type": "code",
   "execution_count": 8,
   "metadata": {
    "collapsed": false,
    "scrolled": false
   },
   "outputs": [
    {
     "data": {
      "text/plain": [
       "['C1',\n",
       " 'C14',\n",
       " 'C15',\n",
       " 'C16',\n",
       " 'C17',\n",
       " 'C18',\n",
       " 'C19',\n",
       " 'C20',\n",
       " 'C21',\n",
       " 'app_category',\n",
       " 'app_domain',\n",
       " 'app_id',\n",
       " 'banner_pos',\n",
       " 'click',\n",
       " 'device_conn_type',\n",
       " 'device_id',\n",
       " 'device_ip',\n",
       " 'device_model',\n",
       " 'device_type',\n",
       " 'hour',\n",
       " 'id',\n",
       " 'site_category',\n",
       " 'site_domain',\n",
       " 'site_id']"
      ]
     },
     "execution_count": 8,
     "metadata": {},
     "output_type": "execute_result"
    }
   ],
   "source": [
    "sorted(row)"
   ]
  },
  {
   "cell_type": "code",
   "execution_count": 16,
   "metadata": {
    "collapsed": true
   },
   "outputs": [],
   "source": [
    "D = 2 ** 20  "
   ]
  },
  {
   "cell_type": "code",
   "execution_count": 17,
   "metadata": {
    "collapsed": false
   },
   "outputs": [],
   "source": [
    "# build x\n",
    "x = [0]  # 0 is the index of the bias term\n",
    "for key in sorted(row):  # sort is for preserving feature ordering\n",
    "    value = row[key]\n",
    "    print(value)\n",
    "\n",
    "    # one-hot encode everything with hash trick\n",
    "    index = abs(hash(key + '_' + value)) % D\n",
    "    x.append(index)"
   ]
  },
  {
   "cell_type": "code",
   "execution_count": 18,
   "metadata": {
    "collapsed": false
   },
   "outputs": [
    {
     "data": {
      "text/plain": [
       "[0,\n",
       " 628940,\n",
       " 166072,\n",
       " 661574,\n",
       " 594433,\n",
       " 337335,\n",
       " 592734,\n",
       " 328196,\n",
       " 929211,\n",
       " 557348,\n",
       " 509111,\n",
       " 463671,\n",
       " 398545,\n",
       " 177001,\n",
       " 503797,\n",
       " 432305,\n",
       " 582510,\n",
       " 736772,\n",
       " 692891,\n",
       " 410227,\n",
       " 287418,\n",
       " 65022,\n",
       " 144554]"
      ]
     },
     "execution_count": 18,
     "metadata": {},
     "output_type": "execute_result"
    }
   ],
   "source": [
    "x"
   ]
  },
  {
   "cell_type": "code",
   "execution_count": 19,
   "metadata": {
    "collapsed": false
   },
   "outputs": [
    {
     "data": {
      "text/plain": [
       "'site_id_1fbe01fe'"
      ]
     },
     "execution_count": 19,
     "metadata": {},
     "output_type": "execute_result"
    }
   ],
   "source": [
    "key + '_' + value"
   ]
  },
  {
   "cell_type": "code",
   "execution_count": 20,
   "metadata": {
    "collapsed": false
   },
   "outputs": [
    {
     "data": {
      "text/plain": [
       "4062171832405603498"
      ]
     },
     "execution_count": 20,
     "metadata": {},
     "output_type": "execute_result"
    }
   ],
   "source": [
    "hash(key + '_' + value)"
   ]
  },
  {
   "cell_type": "code",
   "execution_count": 21,
   "metadata": {
    "collapsed": false
   },
   "outputs": [
    {
     "data": {
      "text/plain": [
       "4062171832405603498"
      ]
     },
     "execution_count": 21,
     "metadata": {},
     "output_type": "execute_result"
    }
   ],
   "source": [
    "abs(hash(key + '_' + value))"
   ]
  },
  {
   "cell_type": "code",
   "execution_count": 22,
   "metadata": {
    "collapsed": false
   },
   "outputs": [
    {
     "data": {
      "text/plain": [
       "144554"
      ]
     },
     "execution_count": 22,
     "metadata": {},
     "output_type": "execute_result"
    }
   ],
   "source": [
    "abs(hash(key + '_' + value)) % D"
   ]
  },
  {
   "cell_type": "code",
   "execution_count": 23,
   "metadata": {
    "collapsed": true
   },
   "outputs": [],
   "source": [
    "def data(path, D):\n",
    "    ''' GENERATOR: Apply hash-trick to the original csv row\n",
    "                   and for simplicity, we one-hot-encode everything\n",
    "\n",
    "        INPUT:\n",
    "            path: path to training or testing file\n",
    "            D: the max index that we can hash to\n",
    "\n",
    "        YIELDS:\n",
    "            ID: id of the instance, mainly useless\n",
    "            x: a list of hashed and one-hot-encoded 'indices'\n",
    "               we only need the index since all values are either 0 or 1\n",
    "            y: y = 1 if we have a click, else we have y = 0\n",
    "    '''\n",
    "\n",
    "    for t, row in enumerate(DictReader(open(path))):\n",
    "        # process id\n",
    "        ID = row['id']\n",
    "        del row['id']\n",
    "\n",
    "        # process clicks\n",
    "        y = 0.\n",
    "        if 'click' in row:\n",
    "            if row['click'] == '1':\n",
    "                y = 1.\n",
    "            del row['click']\n",
    "\n",
    "        # turn hour really into hour, it was originally YYMMDDHH\n",
    "        row['hour'] = row['hour'][6:]\n",
    "\n",
    "        # build x\n",
    "        x = [0]  # 0 is the index of the bias term\n",
    "        for key in sorted(row):  # sort is for preserving feature ordering\n",
    "            value = row[key]\n",
    "\n",
    "            # one-hot encode everything with hash trick\n",
    "            index = abs(hash(key + '_' + value)) % D\n",
    "            x.append(index)\n",
    "\n",
    "        yield t, ID, x, y"
   ]
  },
  {
   "cell_type": "code",
   "execution_count": 25,
   "metadata": {
    "collapsed": false
   },
   "outputs": [],
   "source": [
    "for _ in data('train_head', D):\n",
    "    _"
   ]
  },
  {
   "cell_type": "markdown",
   "metadata": {},
   "source": [
    "## Sklearn"
   ]
  },
  {
   "cell_type": "markdown",
   "metadata": {},
   "source": [
    "References: \n",
    "- https://www.kaggle.com/c/avazu-ctr-prediction/discussion/10927\n",
    "- http://scikit-learn.org/stable/modules/scaling_strategies.html"
   ]
  }
 ],
 "metadata": {
  "kernelspec": {
   "display_name": "Python 3",
   "language": "python",
   "name": "python3"
  },
  "language_info": {
   "codemirror_mode": {
    "name": "ipython",
    "version": 3
   },
   "file_extension": ".py",
   "mimetype": "text/x-python",
   "name": "python",
   "nbconvert_exporter": "python",
   "pygments_lexer": "ipython3",
   "version": "3.6.0"
  },
  "toc": {
   "colors": {
    "hover_highlight": "#DAA520",
    "running_highlight": "#FF0000",
    "selected_highlight": "#FFD700"
   },
   "moveMenuLeft": true,
   "nav_menu": {
    "height": "47px",
    "width": "251px"
   },
   "navigate_menu": true,
   "number_sections": true,
   "sideBar": true,
   "threshold": 4,
   "toc_cell": false,
   "toc_section_display": "block",
   "toc_window_display": true,
   "widenNotebook": false
  }
 },
 "nbformat": 4,
 "nbformat_minor": 2
}
