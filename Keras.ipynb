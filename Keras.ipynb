{
 "cells": [
  {
   "cell_type": "code",
   "execution_count": 2,
   "metadata": {
    "collapsed": false,
    "scrolled": false
   },
   "outputs": [],
   "source": [
    "from sklearn import datasets\n",
    "\n",
    "from keras.models import Sequential\n",
    "from keras.layers import Dense, Activation\n",
    "from keras.optimizers import SGD\n",
    "from keras.utils.np_utils import to_categorical\n",
    "\n",
    "# https://github.com/yang-zhang/utils-python/blob/master/utils_yz.py\n",
    "from utils_yz import logloss"
   ]
  },
  {
   "cell_type": "markdown",
   "metadata": {},
   "source": [
    "## Data"
   ]
  },
  {
   "cell_type": "code",
   "execution_count": 2,
   "metadata": {
    "collapsed": true
   },
   "outputs": [],
   "source": [
    "data = datasets.load_iris()"
   ]
  },
  {
   "cell_type": "code",
   "execution_count": 3,
   "metadata": {
    "collapsed": false
   },
   "outputs": [],
   "source": [
    "X_train = data.data"
   ]
  },
  {
   "cell_type": "code",
   "execution_count": 4,
   "metadata": {
    "collapsed": false
   },
   "outputs": [],
   "source": [
    "y_train = data.target"
   ]
  },
  {
   "cell_type": "code",
   "execution_count": 5,
   "metadata": {
    "collapsed": false
   },
   "outputs": [
    {
     "data": {
      "text/plain": [
       "(150, 4)"
      ]
     },
     "execution_count": 5,
     "metadata": {},
     "output_type": "execute_result"
    }
   ],
   "source": [
    "X_train.shape"
   ]
  },
  {
   "cell_type": "code",
   "execution_count": 6,
   "metadata": {
    "collapsed": false,
    "scrolled": true
   },
   "outputs": [
    {
     "data": {
      "text/plain": [
       "(150,)"
      ]
     },
     "execution_count": 6,
     "metadata": {},
     "output_type": "execute_result"
    }
   ],
   "source": [
    "y_train.shape"
   ]
  },
  {
   "cell_type": "code",
   "execution_count": 9,
   "metadata": {
    "collapsed": false
   },
   "outputs": [],
   "source": [
    "y_train_binary = to_categorical(y_train)"
   ]
  },
  {
   "cell_type": "markdown",
   "metadata": {},
   "source": [
    "## Model"
   ]
  },
  {
   "cell_type": "code",
   "execution_count": 38,
   "metadata": {
    "collapsed": true
   },
   "outputs": [],
   "source": [
    "mdl = Sequential()\n",
    "\n",
    "mdl.add(Dense(10, input_dim=4, activation='relu'))\n",
    "mdl.add(Dense(output_dim=3, activation='softmax'))"
   ]
  },
  {
   "cell_type": "code",
   "execution_count": 39,
   "metadata": {
    "collapsed": false
   },
   "outputs": [],
   "source": [
    "mdl.compile(loss='binary_crossentropy', optimizer=SGD(lr=0.01))"
   ]
  },
  {
   "cell_type": "code",
   "execution_count": 40,
   "metadata": {
    "collapsed": false,
    "scrolled": true
   },
   "outputs": [
    {
     "name": "stdout",
     "output_type": "stream",
     "text": [
      "Epoch 1/50\n",
      "150/150 [==============================] - 0s - loss: 1.5446     \n",
      "Epoch 2/50\n",
      "150/150 [==============================] - 0s - loss: 1.0867     \n",
      "Epoch 3/50\n",
      "150/150 [==============================] - 0s - loss: 0.8896     \n",
      "Epoch 4/50\n",
      "150/150 [==============================] - 0s - loss: 0.7856     \n",
      "Epoch 5/50\n",
      "150/150 [==============================] - 0s - loss: 0.7170     \n",
      "Epoch 6/50\n",
      "150/150 [==============================] - 0s - loss: 0.6680     \n",
      "Epoch 7/50\n",
      "150/150 [==============================] - 0s - loss: 0.6294     \n",
      "Epoch 8/50\n",
      "150/150 [==============================] - 0s - loss: 0.5977     \n",
      "Epoch 9/50\n",
      "150/150 [==============================] - 0s - loss: 0.5727     \n",
      "Epoch 10/50\n",
      "150/150 [==============================] - 0s - loss: 0.5506     \n",
      "Epoch 11/50\n",
      "150/150 [==============================] - 0s - loss: 0.5340     \n",
      "Epoch 12/50\n",
      "150/150 [==============================] - 0s - loss: 0.5208     \n",
      "Epoch 13/50\n",
      "150/150 [==============================] - 0s - loss: 0.5101     \n",
      "Epoch 14/50\n",
      "150/150 [==============================] - 0s - loss: 0.5014     \n",
      "Epoch 15/50\n",
      "150/150 [==============================] - 0s - loss: 0.4936     \n",
      "Epoch 16/50\n",
      "150/150 [==============================] - 0s - loss: 0.4879     \n",
      "Epoch 17/50\n",
      "150/150 [==============================] - 0s - loss: 0.4810     \n",
      "Epoch 18/50\n",
      "150/150 [==============================] - 0s - loss: 0.4757     \n",
      "Epoch 19/50\n",
      "150/150 [==============================] - 0s - loss: 0.4709     \n",
      "Epoch 20/50\n",
      "150/150 [==============================] - 0s - loss: 0.4661     \n",
      "Epoch 21/50\n",
      "150/150 [==============================] - 0s - loss: 0.4617     \n",
      "Epoch 22/50\n",
      "150/150 [==============================] - 0s - loss: 0.4574     \n",
      "Epoch 23/50\n",
      "150/150 [==============================] - 0s - loss: 0.4532     \n",
      "Epoch 24/50\n",
      "150/150 [==============================] - 0s - loss: 0.4493     \n",
      "Epoch 25/50\n",
      "150/150 [==============================] - 0s - loss: 0.4455     \n",
      "Epoch 26/50\n",
      "150/150 [==============================] - 0s - loss: 0.4420     \n",
      "Epoch 27/50\n",
      "150/150 [==============================] - 0s - loss: 0.4385     \n",
      "Epoch 28/50\n",
      "150/150 [==============================] - 0s - loss: 0.4353     \n",
      "Epoch 29/50\n",
      "150/150 [==============================] - 0s - loss: 0.4321     \n",
      "Epoch 30/50\n",
      "150/150 [==============================] - 0s - loss: 0.4287     \n",
      "Epoch 31/50\n",
      "150/150 [==============================] - 0s - loss: 0.4258     \n",
      "Epoch 32/50\n",
      "150/150 [==============================] - 0s - loss: 0.4228     \n",
      "Epoch 33/50\n",
      "150/150 [==============================] - 0s - loss: 0.4200     \n",
      "Epoch 34/50\n",
      "150/150 [==============================] - 0s - loss: 0.4168     \n",
      "Epoch 35/50\n",
      "150/150 [==============================] - 0s - loss: 0.4142     \n",
      "Epoch 36/50\n",
      "150/150 [==============================] - 0s - loss: 0.4111     \n",
      "Epoch 37/50\n",
      "150/150 [==============================] - 0s - loss: 0.4091     \n",
      "Epoch 38/50\n",
      "150/150 [==============================] - 0s - loss: 0.4058     \n",
      "Epoch 39/50\n",
      "150/150 [==============================] - 0s - loss: 0.4034     \n",
      "Epoch 40/50\n",
      "150/150 [==============================] - 0s - loss: 0.4004     \n",
      "Epoch 41/50\n",
      "150/150 [==============================] - 0s - loss: 0.3979     \n",
      "Epoch 42/50\n",
      "150/150 [==============================] - 0s - loss: 0.3956     \n",
      "Epoch 43/50\n",
      "150/150 [==============================] - 0s - loss: 0.3933     \n",
      "Epoch 44/50\n",
      "150/150 [==============================] - 0s - loss: 0.3905     \n",
      "Epoch 45/50\n",
      "150/150 [==============================] - 0s - loss: 0.3884     \n",
      "Epoch 46/50\n",
      "150/150 [==============================] - 0s - loss: 0.3862     \n",
      "Epoch 47/50\n",
      "150/150 [==============================] - 0s - loss: 0.3839     \n",
      "Epoch 48/50\n",
      "150/150 [==============================] - 0s - loss: 0.3819     \n",
      "Epoch 49/50\n",
      "150/150 [==============================] - 0s - loss: 0.3798     \n",
      "Epoch 50/50\n",
      "150/150 [==============================] - 0s - loss: 0.3775     \n"
     ]
    },
    {
     "data": {
      "text/plain": [
       "<keras.callbacks.History at 0x1137be410>"
      ]
     },
     "execution_count": 40,
     "metadata": {},
     "output_type": "execute_result"
    }
   ],
   "source": [
    "mdl.fit(X_train, y_train_binary, nb_epoch=50, batch_size=32)"
   ]
  },
  {
   "cell_type": "code",
   "execution_count": 41,
   "metadata": {
    "collapsed": false,
    "scrolled": false
   },
   "outputs": [
    {
     "name": "stdout",
     "output_type": "stream",
     "text": [
      " 32/150 [=====>........................] - ETA: 0s"
     ]
    }
   ],
   "source": [
    "pred_classes = mdl.predict_classes(X_train, batch_size=32)\n",
    "pred_prob = mdl.predict_proba(X_train, batch_size=32)"
   ]
  },
  {
   "cell_type": "code",
   "execution_count": 42,
   "metadata": {
    "collapsed": false
   },
   "outputs": [],
   "source": [
    "act = y_train_binary\n",
    "pred = pred_prob"
   ]
  },
  {
   "cell_type": "code",
   "execution_count": 27,
   "metadata": {
    "collapsed": true
   },
   "outputs": [],
   "source": [
    "??logloss"
   ]
  },
  {
   "cell_type": "code",
   "execution_count": 43,
   "metadata": {
    "collapsed": false,
    "scrolled": true
   },
   "outputs": [
    {
     "data": {
      "text/plain": [
       "array([ 0.37605481])"
      ]
     },
     "execution_count": 43,
     "metadata": {},
     "output_type": "execute_result"
    }
   ],
   "source": [
    "logloss(y_train_binary.reshape(-1,1), pred_prob.reshape(-1, 1))"
   ]
  },
  {
   "cell_type": "markdown",
   "metadata": {},
   "source": [
    "- https://keras.io/"
   ]
  }
 ],
 "metadata": {
  "anaconda-cloud": {},
  "kernelspec": {
   "display_name": "Python [default]",
   "language": "python",
   "name": "python2"
  },
  "language_info": {
   "codemirror_mode": {
    "name": "ipython",
    "version": 2
   },
   "file_extension": ".py",
   "mimetype": "text/x-python",
   "name": "python",
   "nbconvert_exporter": "python",
   "pygments_lexer": "ipython2",
   "version": "2.7.12"
  },
  "toc": {
   "colors": {
    "hover_highlight": "#DAA520",
    "running_highlight": "#FF0000",
    "selected_highlight": "#FFD700"
   },
   "moveMenuLeft": true,
   "nav_menu": {
    "height": "49px",
    "width": "252px"
   },
   "navigate_menu": true,
   "number_sections": true,
   "sideBar": true,
   "threshold": 4,
   "toc_cell": false,
   "toc_section_display": "block",
   "toc_window_display": false
  }
 },
 "nbformat": 4,
 "nbformat_minor": 1
}
