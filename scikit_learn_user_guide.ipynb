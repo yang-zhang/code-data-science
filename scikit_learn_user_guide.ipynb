{
 "cells": [
  {
   "cell_type": "markdown",
   "metadata": {},
   "source": [
    "scikit-learn [User Guide](http://scikit-learn.org/stable/user_guide.html)"
   ]
  },
  {
   "cell_type": "markdown",
   "metadata": {},
   "source": [
    "#  Supervised learning"
   ]
  },
  {
   "cell_type": "markdown",
   "metadata": {},
   "source": [
    "## Generalized Linear Models"
   ]
  },
  {
   "cell_type": "markdown",
   "metadata": {},
   "source": [
    "### Least Angle Regression\n",
    "The advantages of LARS are:\n",
    "It is numerically efficient in contexts where p >> n (i.e., when the number of dimensions is significantly greater than the number of points)"
   ]
  },
  {
   "cell_type": "markdown",
   "metadata": {},
   "source": [
    "### Bayesian Regression\n",
    "A good introduction to Bayesian methods is given in C. Bishop: Pattern Recognition and Machine learning\n"
   ]
  },
  {
   "cell_type": "markdown",
   "metadata": {},
   "source": [
    "#### Bayesian Ridge Regression"
   ]
  },
  {
   "cell_type": "code",
   "execution_count": 31,
   "metadata": {
    "collapsed": false
   },
   "outputs": [
    {
     "data": {
      "text/plain": [
       "array([ 0.66595038,  0.74902604,  0.74351673,  0.22500517, -0.16257476])"
      ]
     },
     "execution_count": 31,
     "metadata": {},
     "output_type": "execute_result"
    },
    {
     "data": {
      "text/plain": [
       "array([ 0.68684845,  0.72822154,  0.69391037,  0.19794522, -0.7489671 ])"
      ]
     },
     "execution_count": 31,
     "metadata": {},
     "output_type": "execute_result"
    }
   ],
   "source": [
    "from sklearn.linear_model import BayesianRidge, LinearRegression\n",
    "from sklearn.model_selection import cross_val_score\n",
    "from sklearn.preprocessing import Normalizer\n",
    "from sklearn import datasets\n",
    "boston = datasets.load_boston()\n",
    "X = boston.data\n",
    "X = Normalizer().fit_transform(X)\n",
    "y = boston.target\n",
    "bayesian_ridge = BayesianRidge()\n",
    "linear_regression = LinearRegression()\n",
    "\n",
    "cross_val_score(bayesian_ridge, X, y, cv=5)\n",
    "cross_val_score(linear_regression, X, y, cv=5)"
   ]
  },
  {
   "cell_type": "code",
   "execution_count": 32,
   "metadata": {
    "collapsed": false,
    "scrolled": false
   },
   "outputs": [
    {
     "data": {
      "text/plain": [
       "array([ 0.66595038,  0.74902604,  0.74351673,  0.22500517, -0.16257476])"
      ]
     },
     "execution_count": 32,
     "metadata": {},
     "output_type": "execute_result"
    },
    {
     "data": {
      "text/plain": [
       "array([ 0.68684845,  0.72822154,  0.69391037,  0.19794522, -0.7489671 ])"
      ]
     },
     "execution_count": 32,
     "metadata": {},
     "output_type": "execute_result"
    }
   ],
   "source": [
    "cross_val_score(bayesian_ridge, X, y, scoring='r2', cv=5)\n",
    "cross_val_score(linear_regression, X, y, scoring='r2', cv=5)"
   ]
  },
  {
   "cell_type": "code",
   "execution_count": 34,
   "metadata": {
    "collapsed": false,
    "scrolled": false
   },
   "outputs": [
    {
     "data": {
      "text/plain": [
       "array([-11.53646895, -22.84785476, -20.54102816, -67.97623206, -30.91090602])"
      ]
     },
     "execution_count": 34,
     "metadata": {},
     "output_type": "execute_result"
    },
    {
     "data": {
      "text/plain": [
       "array([-10.81474975, -24.74182838, -24.51386214, -70.34970989, -46.50209138])"
      ]
     },
     "execution_count": 34,
     "metadata": {},
     "output_type": "execute_result"
    }
   ],
   "source": [
    "cross_val_score(bayesian_ridge, X, y, scoring='neg_mean_squared_error', cv=5)\n",
    "cross_val_score(linear_regression, X, y, scoring='neg_mean_squared_error', cv=5)"
   ]
  },
  {
   "cell_type": "markdown",
   "metadata": {},
   "source": [
    "### Logistic regression\n",
    "For large dataset, you may also consider using `SGDClassifier` with `log` loss."
   ]
  },
  {
   "cell_type": "markdown",
   "metadata": {},
   "source": [
    "## Linear and Quadratic Discriminant Analysis"
   ]
  },
  {
   "cell_type": "markdown",
   "metadata": {},
   "source": [
    "## Kernel ridge regression"
   ]
  },
  {
   "cell_type": "markdown",
   "metadata": {},
   "source": [
    "## Support Vector Machines"
   ]
  },
  {
   "cell_type": "markdown",
   "metadata": {},
   "source": [
    "## Stochastic Gradient Descent"
   ]
  },
  {
   "cell_type": "markdown",
   "metadata": {},
   "source": [
    "## Nearest Neighbors"
   ]
  },
  {
   "cell_type": "markdown",
   "metadata": {},
   "source": [
    "## Gaussian Processes"
   ]
  },
  {
   "cell_type": "markdown",
   "metadata": {},
   "source": [
    "## Cross decomposition"
   ]
  },
  {
   "cell_type": "markdown",
   "metadata": {},
   "source": [
    "## Naive Bayes"
   ]
  },
  {
   "cell_type": "markdown",
   "metadata": {},
   "source": [
    "## Decision Trees"
   ]
  },
  {
   "cell_type": "markdown",
   "metadata": {},
   "source": [
    "## Ensemble methods"
   ]
  },
  {
   "cell_type": "markdown",
   "metadata": {},
   "source": [
    "## Multiclass and multilabel algorithms"
   ]
  },
  {
   "cell_type": "markdown",
   "metadata": {},
   "source": [
    "## Feature selection"
   ]
  },
  {
   "cell_type": "markdown",
   "metadata": {},
   "source": [
    "## Semi-Supervised"
   ]
  },
  {
   "cell_type": "markdown",
   "metadata": {},
   "source": [
    "## Isotonic regression"
   ]
  },
  {
   "cell_type": "markdown",
   "metadata": {},
   "source": [
    "## Probability calibration"
   ]
  },
  {
   "cell_type": "markdown",
   "metadata": {},
   "source": [
    "## Neural network models (supervised)"
   ]
  },
  {
   "cell_type": "markdown",
   "metadata": {},
   "source": [
    "# Unsupervised learning"
   ]
  },
  {
   "cell_type": "markdown",
   "metadata": {},
   "source": [
    "## Gaussian mixture models\n",
    "## Manifold learning\n",
    "## Clustering\n",
    "## Biclustering\n",
    "## Decomposing signals in components (matrix factorization problems)\n",
    "## Covariance estimation\n",
    "## Novelty and Outlier Detection\n",
    "## Density Estimation\n",
    "## Neural network models (unsupervised)\n",
    "# Model selection and evaluation\n",
    "## Cross-validation: evaluating estimator performance\n",
    "## Tuning the hyper-parameters of an estimator\n",
    "## Model evaluation: quantifying the quality of predictions\n",
    "## Model persistence\n",
    "## Validation curves: plotting scores to evaluate models\n",
    "# Dataset transformations\n",
    "## Pipeline and FeatureUnion: combining estimators\n",
    "## Feature extraction\n",
    "## Preprocessing data\n",
    "## Unsupervised dimensionality reduction\n",
    "## Random Projection\n",
    "## Kernel Approximation\n",
    "## Pairwise metrics, Affinities and Kernels\n",
    "## Transforming the prediction target (y)\n",
    "# Dataset loading utilities\n",
    "## General dataset API\n",
    "## Toy datasets\n",
    "## Sample images\n",
    "## Sample generators\n",
    "## Datasets in svmlight / libsvm format\n",
    "## Loading from external datasets\n",
    "## The Olivetti faces dataset\n",
    "## The 20 newsgroups text dataset\n",
    "## Downloading datasets from the mldata.org repository\n",
    "## The Labeled Faces in the Wild face recognition dataset\n",
    "## Forest covertypes\n",
    "## RCV1 dataset\n",
    "## Boston House Prices dataset\n",
    "## Breast Cancer Wisconsin (Diagnostic) Database\n",
    "## Diabetes dataset\n",
    "## Optical Recognition of Handwritten Digits Data Set\n",
    "## Iris Plants Database\n",
    "## Linnerrud dataset\n",
    "# Strategies to scale computationally: bigger data\n",
    "## Scaling with instances using out-of-core learning\n",
    "# Computational Performance\n",
    "## Prediction Latency\n",
    "## Prediction Throughput\n",
    "## Tips and Tricks"
   ]
  },
  {
   "cell_type": "code",
   "execution_count": null,
   "metadata": {
    "collapsed": true
   },
   "outputs": [],
   "source": []
  }
 ],
 "metadata": {
  "anaconda-cloud": {},
  "kernelspec": {
   "display_name": "Python 3",
   "language": "python",
   "name": "python3"
  },
  "language_info": {
   "codemirror_mode": {
    "name": "ipython",
    "version": 3
   },
   "file_extension": ".py",
   "mimetype": "text/x-python",
   "name": "python",
   "nbconvert_exporter": "python",
   "pygments_lexer": "ipython3",
   "version": "3.6.0"
  },
  "toc": {
   "colors": {
    "hover_highlight": "#DAA520",
    "running_highlight": "#FF0000",
    "selected_highlight": "#FFD700"
   },
   "moveMenuLeft": true,
   "nav_menu": {
    "height": "512px",
    "width": "252px"
   },
   "navigate_menu": true,
   "number_sections": true,
   "sideBar": true,
   "threshold": 4,
   "toc_cell": false,
   "toc_section_display": "block",
   "toc_window_display": true,
   "widenNotebook": false
  }
 },
 "nbformat": 4,
 "nbformat_minor": 1
}
