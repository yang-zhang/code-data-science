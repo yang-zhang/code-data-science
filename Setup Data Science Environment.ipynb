{
 "cells": [
  {
   "cell_type": "markdown",
   "metadata": {},
   "source": [
    "# Conda\n",
    "\n",
    "## Environment\n",
    "If you have conda3, Install Python2.7 with everything that comes with anaconda\n",
    "```\n",
    "conda create -n py27 python=2.7 anaconda\n",
    "```\n",
    "\n",
    "If you have conda2, Install Python3.5 with everything that comes with anaconda\n",
    "```\n",
    "conda create -n py35 python=3.5 anaconda\n",
    "```\n",
    "\n",
    "Clone from existing env\n",
    "\n",
    "```\n",
    "conda create -n new_env --clone root\n",
    "```\n",
    "\n",
    "## Add R kernal:\n",
    "```\n",
    "conda install -c r r-essentials\n",
    "```"
   ]
  },
  {
   "cell_type": "markdown",
   "metadata": {},
   "source": [
    "# xgboost\n",
    "\n",
    "Conda's version is old.\n",
    "```\n",
    "cd Downloads\n",
    "git clone --recursive https://github.com/dmlc/xgboost\n",
    "cd xgboost; cp make/minimum.mk ./config.mk; make -j4\n",
    "cd python-package; sudo python setup.py install\n",
    "```"
   ]
  },
  {
   "cell_type": "markdown",
   "metadata": {},
   "source": [
    "# `.bash_profile`\n",
    "\n",
    "```\n",
    "export PYTHONPATH=\"/Users/yangzhang/git/ds-utils:/Users/yangzhang/secrets:$PYTHONPATH\"\n",
    "\n",
    "alias jn='jupyter notebook'\n",
    "alias sa='source activate'\n",
    "alias sda='source deactivate'\n",
    "\n",
    "```"
   ]
  },
  {
   "cell_type": "markdown",
   "metadata": {},
   "source": [
    "# `secrets.py`\n",
    "\n",
    "In `~/secrets/secrets.py`:\n",
    "```\n",
    "AWS_KEY='ABC123'\n",
    "AWS_SECRET='ABCXYZ'\n",
    "\n",
    "KAGGLE_USER='zhangyang'\n",
    "KAGGLE_PW='123'\n",
    "```"
   ]
  },
  {
   "cell_type": "markdown",
   "metadata": {},
   "source": [
    "# git\n",
    "\n",
    "## git setup for contributing to repo (http://kbroman.org/github_tutorial/pages/fork.html)\n",
    "- Fork the repo on github (e.g. https://github.com/dmlc/xgboost)\n",
    "- Clone your forked repo: `git clone https://github.com/yang-zhang/xgboost`\n",
    "- Add original owner’s repository: `cd xgboost; git remote add dmlc https://github.com/dmlc/xgboost`\n",
    "- Show remote repo: `git remote -v`\n",
    "\n",
    "## Add remote branch\n",
    "```git checkout --track origin/name_of_the_remote_branch```"
   ]
  },
  {
   "cell_type": "markdown",
   "metadata": {},
   "source": [
    "# Jupyter\n",
    "\n",
    "## Jupyter notebook extensions\n",
    "\n",
    "Install [Jupyter notebook extensions](https://github.com/ipython-contrib/jupyter_contrib_nbextensions) and [Jupyter Nbextensions Configurator](https://github.com/Jupyter-contrib/jupyter_nbextensions_configurator) using the conda option.\n",
    "\n",
    "- Expand and collapse Sections: At home page, in \"Nbextensions\" tab select \"Collapsible Headings\".\n",
    "\n",
    "- Table to contents: At home page, in \"Nbextensions\" tab select \"Table of Contents\".\n",
    "\n",
    "*Note!* Installing extensions will break nbconvert (for slideshow): see (http://stackoverflow.com/questions/38723801/typeerror-when-executing-jupyter-nbconvert); need to run `conda update conda` to fix."
   ]
  },
  {
   "cell_type": "markdown",
   "metadata": {},
   "source": [
    "## Configurations"
   ]
  },
  {
   "cell_type": "code",
   "execution_count": 8,
   "metadata": {
    "collapsed": false
   },
   "outputs": [],
   "source": [
    "# from IPython.core.interactiveshell import InteractiveShell\n",
    "# InteractiveShell.ast_node_interactivity = \"all\"\n",
    "\n",
    "# pd.options.display.max_columns = None\n",
    "\n",
    "# from IPython.core.pylabtools import figsize\n",
    "# figsize(11, 9)\n",
    "\n",
    "# # Set numpy display precision\n",
    "# np.set_printoptions(precision=4, linewidth=100)"
   ]
  },
  {
   "cell_type": "code",
   "execution_count": 9,
   "metadata": {
    "collapsed": false
   },
   "outputs": [
    {
     "data": {
      "application/javascript": [
       "IPython.OutputArea.auto_scroll_threshold = 9999;"
      ],
      "text/plain": [
       "<IPython.core.display.Javascript object>"
      ]
     },
     "metadata": {},
     "output_type": "display_data"
    }
   ],
   "source": [
    "%%javascript\n",
    "IPython.OutputArea.auto_scroll_threshold = 9999;"
   ]
  },
  {
   "cell_type": "markdown",
   "metadata": {},
   "source": [
    "## Display all variables in the same cell\n",
    "\n",
    "In notebook, run:\n",
    "```\n",
    "from IPython.core.interactiveshell import InteractiveShell\n",
    "InteractiveShell.ast_node_interactivity = \"all\"\n",
    "```\n",
    "\n",
    "If you want to set this behaviour for all instances of Jupyter (Notebook and Console), simply create a file `~/.ipython/profile_default/ipython_config.py` with the lines below.\n",
    "```\n",
    "c = get_config()\n",
    "# Run all nodes interactively\n",
    "c.InteractiveShell.ast_node_interactivity = \"all\"\n",
    "```"
   ]
  },
  {
   "cell_type": "code",
   "execution_count": 10,
   "metadata": {
    "collapsed": false
   },
   "outputs": [
    {
     "data": {
      "text/plain": [
       "1"
      ]
     },
     "execution_count": 10,
     "metadata": {},
     "output_type": "execute_result"
    },
    {
     "data": {
      "text/plain": [
       "2"
      ]
     },
     "execution_count": 10,
     "metadata": {},
     "output_type": "execute_result"
    }
   ],
   "source": [
    "a=1; b=2;\n",
    "a\n",
    "b"
   ]
  },
  {
   "cell_type": "markdown",
   "metadata": {},
   "source": [
    "## Slideshow using Jupyter\n",
    "\n",
    "http://www.damian.oquanta.info/posts/make-your-slides-with-ipython.html\n",
    "```\n",
    "jupyter nbconvert my_notebook.ipynb --to slides --post serve\n",
    "```"
   ]
  },
  {
   "cell_type": "markdown",
   "metadata": {},
   "source": [
    "# Deep Learning\n",
    "http://www.fast.ai/\n",
    "\n",
    "## Change to theano backend:\n",
    "open `~/.keras/keras.json` and change the value of `\"backend\"` to `\"theano\"`.\n",
    "\n",
    "## Modules to install\n",
    "- bcolz\n",
    "- theano\n",
    "- keras\n",
    "  - [Issue with new keras version 2.0.1](https://github.com/fchollet/keras/issues/5870). Instead use \n",
    "  ```\n",
    "  conda install -c conda-forge keras=1.2.2\n",
    "  ```"
   ]
  },
  {
   "cell_type": "markdown",
   "metadata": {},
   "source": [
    "# Misc\n",
    "## Python 2 to 3\n",
    "`2to3 -w example.py`\n",
    "\n",
    "\n",
    "## Control video speed\n",
    "- [Google YouTube Keyboard Shortcuts](https://sites.google.com/a/umich.edu/going-google/accessibility/google-keyboard-shortcuts---youtube)\n",
    "- [Video Speed Controller - Chrome extension](https://chrome.google.com/webstore/detail/video-speed-controller/nffaoalbilbmmfgbnbgppjihopabppdk)"
   ]
  }
 ],
 "metadata": {
  "anaconda-cloud": {},
  "kernelspec": {
   "display_name": "Python 3",
   "language": "python",
   "name": "python3"
  },
  "language_info": {
   "codemirror_mode": {
    "name": "ipython",
    "version": 3
   },
   "file_extension": ".py",
   "mimetype": "text/x-python",
   "name": "python",
   "nbconvert_exporter": "python",
   "pygments_lexer": "ipython3",
   "version": "3.6.0"
  },
  "toc": {
   "colors": {
    "hover_highlight": "#DAA520",
    "running_highlight": "#FF0000",
    "selected_highlight": "#FFD700"
   },
   "moveMenuLeft": true,
   "nav_menu": {
    "height": "266px",
    "width": "252px"
   },
   "navigate_menu": true,
   "number_sections": true,
   "sideBar": true,
   "threshold": 4,
   "toc_cell": false,
   "toc_position": {
    "height": "474px",
    "left": "0px",
    "right": "940px",
    "top": "107px",
    "width": "212px"
   },
   "toc_section_display": "block",
   "toc_window_display": true
  }
 },
 "nbformat": 4,
 "nbformat_minor": 1
}
