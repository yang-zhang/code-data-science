{
 "cells": [
  {
   "cell_type": "markdown",
   "metadata": {},
   "source": [
    "# Setup"
   ]
  },
  {
   "cell_type": "code",
   "execution_count": 1,
   "metadata": {
    "collapsed": false
   },
   "outputs": [],
   "source": [
    "%matplotlib inline\n",
    "import pickle\n",
    "import numpy as np\n",
    "import pandas as pd\n",
    "\n",
    "import xgboost as xgb\n",
    "\n",
    "import sklearn.datasets\n",
    "import sklearn.model_selection\n",
    "import sklearn.metrics"
   ]
  },
  {
   "cell_type": "markdown",
   "metadata": {},
   "source": [
    "# [basic sklearn examples](https://github.com/dmlc/xgboost/blob/master/demo/guide-python/sklearn_examples.py)"
   ]
  },
  {
   "cell_type": "markdown",
   "metadata": {},
   "source": [
    "## models"
   ]
  },
  {
   "cell_type": "code",
   "execution_count": 2,
   "metadata": {
    "collapsed": true
   },
   "outputs": [],
   "source": [
    "rng = np.random.RandomState(31337)"
   ]
  },
  {
   "cell_type": "code",
   "execution_count": 3,
   "metadata": {
    "collapsed": false
   },
   "outputs": [
    {
     "name": "stdout",
     "output_type": "stream",
     "text": [
      "Zeros and Ones from the Digits dataset: binary classification\n",
      "[[87  0]\n",
      " [ 1 92]]\n",
      "[[91  0]\n",
      " [ 3 86]]\n"
     ]
    }
   ],
   "source": [
    "print(\"Zeros and Ones from the Digits dataset: binary classification\")\n",
    "digits = sklearn.datasets.load_digits(2)\n",
    "y = digits['target']\n",
    "X = digits['data']\n",
    "kf = sklearn.model_selection.KFold(n_splits=2, shuffle=True, random_state=rng)\n",
    "for train_index, test_index in kf.split(X):\n",
    "    xgb_model = xgb.XGBClassifier().fit(X[train_index],y[train_index])\n",
    "    predictions = xgb_model.predict(X[test_index])\n",
    "    actuals = y[test_index]\n",
    "    print(sklearn.metrics.confusion_matrix(actuals, predictions))"
   ]
  },
  {
   "cell_type": "code",
   "execution_count": 4,
   "metadata": {
    "collapsed": false
   },
   "outputs": [
    {
     "name": "stdout",
     "output_type": "stream",
     "text": [
      "Iris: multiclass classification\n",
      "[[19  0  0]\n",
      " [ 0 31  3]\n",
      " [ 0  1 21]]\n",
      "[[31  0  0]\n",
      " [ 0 16  0]\n",
      " [ 0  3 25]]\n"
     ]
    }
   ],
   "source": [
    "print(\"Iris: multiclass classification\")\n",
    "iris = sklearn.datasets.load_iris()\n",
    "y = iris['target']\n",
    "X = iris['data']\n",
    "kf = sklearn.model_selection.KFold(n_splits=2, shuffle=True, random_state=rng)\n",
    "for train_index, test_index in kf.split(X):\n",
    "    xgb_model = xgb.XGBClassifier().fit(X[train_index],y[train_index])\n",
    "    predictions = xgb_model.predict(X[test_index])\n",
    "    actuals = y[test_index]\n",
    "    print(sklearn.metrics.confusion_matrix(actuals, predictions))"
   ]
  },
  {
   "cell_type": "code",
   "execution_count": 5,
   "metadata": {
    "collapsed": false
   },
   "outputs": [
    {
     "name": "stdout",
     "output_type": "stream",
     "text": [
      "Boston Housing: regression\n",
      "9.86281492905\n",
      "15.9899625729\n"
     ]
    }
   ],
   "source": [
    "print(\"Boston Housing: regression\")\n",
    "boston = sklearn.datasets.load_boston()\n",
    "y = boston['target']\n",
    "X = boston['data']\n",
    "kf = sklearn.model_selection.KFold(n_splits=2, shuffle=True, random_state=rng)\n",
    "for train_index, test_index in kf.split(X):\n",
    "    xgb_model = xgb.XGBRegressor().fit(X[train_index],y[train_index])\n",
    "    predictions = xgb_model.predict(X[test_index])\n",
    "    actuals = y[test_index]\n",
    "    print(sklearn.metrics.mean_squared_error(actuals, predictions))"
   ]
  },
  {
   "cell_type": "markdown",
   "metadata": {},
   "source": [
    "## grid search"
   ]
  },
  {
   "cell_type": "code",
   "execution_count": 6,
   "metadata": {
    "collapsed": false,
    "scrolled": true
   },
   "outputs": [
    {
     "name": "stdout",
     "output_type": "stream",
     "text": [
      "Parameter optimization\n",
      "Fitting 3 folds for each of 9 candidates, totalling 27 fits\n"
     ]
    },
    {
     "name": "stderr",
     "output_type": "stream",
     "text": [
      "[Parallel(n_jobs=1)]: Done  27 out of  27 | elapsed:    1.3s finished\n"
     ]
    },
    {
     "data": {
      "text/plain": [
       "GridSearchCV(cv=None, error_score='raise',\n",
       "       estimator=XGBRegressor(base_score=0.5, colsample_bylevel=1, colsample_bytree=1, gamma=0,\n",
       "       learning_rate=0.1, max_delta_step=0, max_depth=3,\n",
       "       min_child_weight=1, missing=None, n_estimators=100, nthread=-1,\n",
       "       objective='reg:linear', reg_alpha=0, reg_lambda=1,\n",
       "       scale_pos_weight=1, seed=0, silent=True, subsample=1),\n",
       "       fit_params={}, iid=True, n_jobs=1,\n",
       "       param_grid={'n_estimators': [50, 100, 200], 'max_depth': [2, 4, 6]},\n",
       "       pre_dispatch='2*n_jobs', refit=True, return_train_score=True,\n",
       "       scoring=None, verbose=1)"
      ]
     },
     "execution_count": 6,
     "metadata": {},
     "output_type": "execute_result"
    },
    {
     "name": "stdout",
     "output_type": "stream",
     "text": [
      "0.598487960649\n",
      "{'n_estimators': 100, 'max_depth': 4}\n"
     ]
    }
   ],
   "source": [
    "print(\"Parameter optimization\")\n",
    "y = boston['target']\n",
    "X = boston['data']\n",
    "xgb_model = xgb.XGBRegressor()\n",
    "clf = sklearn.model_selection.GridSearchCV(xgb_model,\n",
    "                   {'max_depth': [2,4,6],\n",
    "                    'n_estimators': [50,100,200]}, verbose=1)\n",
    "clf.fit(X,y)\n",
    "print(clf.best_score_)\n",
    "print(clf.best_params_)"
   ]
  },
  {
   "cell_type": "markdown",
   "metadata": {},
   "source": [
    "## pickle model"
   ]
  },
  {
   "cell_type": "code",
   "execution_count": 7,
   "metadata": {
    "collapsed": false,
    "scrolled": true
   },
   "outputs": [
    {
     "name": "stdout",
     "output_type": "stream",
     "text": [
      "Pickling sklearn API models\n",
      "True\n"
     ]
    }
   ],
   "source": [
    "# The sklearn API models are picklable\n",
    "print(\"Pickling sklearn API models\")\n",
    "# must open in binary format to pickle\n",
    "pickle.dump(clf, open(\"best_boston.pkl\", \"wb\"))\n",
    "clf2 = pickle.load(open(\"best_boston.pkl\", \"rb\"))\n",
    "print(np.allclose(clf.predict(X), clf2.predict(X)))"
   ]
  },
  {
   "cell_type": "markdown",
   "metadata": {},
   "source": [
    "## early stopping"
   ]
  },
  {
   "cell_type": "code",
   "execution_count": 8,
   "metadata": {
    "collapsed": false,
    "scrolled": false
   },
   "outputs": [
    {
     "name": "stdout",
     "output_type": "stream",
     "text": [
      "[0]\tvalidation_0-auc:0.999497\n",
      "Will train until validation_0-auc hasn't improved in 10 rounds.\n",
      "[1]\tvalidation_0-auc:0.999497\n",
      "[2]\tvalidation_0-auc:0.999497\n",
      "[3]\tvalidation_0-auc:0.999749\n",
      "[4]\tvalidation_0-auc:0.999749\n",
      "[5]\tvalidation_0-auc:0.999749\n",
      "[6]\tvalidation_0-auc:0.999749\n",
      "[7]\tvalidation_0-auc:0.999749\n",
      "[8]\tvalidation_0-auc:0.999749\n",
      "[9]\tvalidation_0-auc:0.999749\n",
      "[10]\tvalidation_0-auc:1\n",
      "[11]\tvalidation_0-auc:1\n",
      "[12]\tvalidation_0-auc:1\n",
      "[13]\tvalidation_0-auc:1\n",
      "[14]\tvalidation_0-auc:1\n",
      "[15]\tvalidation_0-auc:1\n",
      "[16]\tvalidation_0-auc:1\n",
      "[17]\tvalidation_0-auc:1\n",
      "[18]\tvalidation_0-auc:1\n",
      "[19]\tvalidation_0-auc:1\n",
      "[20]\tvalidation_0-auc:1\n",
      "Stopping. Best iteration:\n",
      "[10]\tvalidation_0-auc:1\n",
      "\n"
     ]
    },
    {
     "data": {
      "text/plain": [
       "XGBClassifier(base_score=0.5, colsample_bylevel=1, colsample_bytree=1,\n",
       "       gamma=0, learning_rate=0.1, max_delta_step=0, max_depth=3,\n",
       "       min_child_weight=1, missing=None, n_estimators=100, nthread=-1,\n",
       "       objective='binary:logistic', reg_alpha=0, reg_lambda=1,\n",
       "       scale_pos_weight=1, seed=0, silent=True, subsample=1)"
      ]
     },
     "execution_count": 8,
     "metadata": {},
     "output_type": "execute_result"
    }
   ],
   "source": [
    "# Early-stopping\n",
    "\n",
    "X = digits['data']\n",
    "y = digits['target']\n",
    "X_train, X_test, y_train, y_test = sklearn.model_selection.train_test_split(\n",
    "    X, y, random_state=0)\n",
    "clf = xgb.XGBClassifier()\n",
    "clf.fit(X_train,\n",
    "        y_train,\n",
    "        early_stopping_rounds=10,\n",
    "        eval_metric=\"auc\",\n",
    "        eval_set=[(X_test, y_test)])"
   ]
  },
  {
   "cell_type": "markdown",
   "metadata": {},
   "source": [
    "# [Mini course](http://machinelearningmastery.com/xgboost-python-mini-course/)"
   ]
  },
  {
   "cell_type": "markdown",
   "metadata": {},
   "source": [
    "## Early stopping"
   ]
  },
  {
   "cell_type": "code",
   "execution_count": 21,
   "metadata": {
    "collapsed": false
   },
   "outputs": [
    {
     "name": "stdout",
     "output_type": "stream",
     "text": [
      "[0]\tvalidation_0-logloss:0.659122\n",
      "Will train until validation_0-logloss hasn't improved in 10 rounds.\n",
      "[1]\tvalidation_0-logloss:0.627792\n",
      "[2]\tvalidation_0-logloss:0.605394\n",
      "[3]\tvalidation_0-logloss:0.585302\n",
      "[4]\tvalidation_0-logloss:0.568677\n",
      "[5]\tvalidation_0-logloss:0.556035\n",
      "[6]\tvalidation_0-logloss:0.539978\n",
      "[7]\tvalidation_0-logloss:0.52831\n",
      "[8]\tvalidation_0-logloss:0.520476\n",
      "[9]\tvalidation_0-logloss:0.51436\n",
      "[10]\tvalidation_0-logloss:0.503309\n",
      "[11]\tvalidation_0-logloss:0.495853\n",
      "[12]\tvalidation_0-logloss:0.490142\n",
      "[13]\tvalidation_0-logloss:0.48192\n",
      "[14]\tvalidation_0-logloss:0.479015\n",
      "[15]\tvalidation_0-logloss:0.473399\n",
      "[16]\tvalidation_0-logloss:0.471189\n",
      "[17]\tvalidation_0-logloss:0.469348\n",
      "[18]\tvalidation_0-logloss:0.463775\n",
      "[19]\tvalidation_0-logloss:0.462056\n",
      "[20]\tvalidation_0-logloss:0.460991\n",
      "[21]\tvalidation_0-logloss:0.458616\n",
      "[22]\tvalidation_0-logloss:0.456818\n",
      "[23]\tvalidation_0-logloss:0.453458\n",
      "[24]\tvalidation_0-logloss:0.452898\n",
      "[25]\tvalidation_0-logloss:0.450898\n",
      "[26]\tvalidation_0-logloss:0.448141\n",
      "[27]\tvalidation_0-logloss:0.448147\n",
      "[28]\tvalidation_0-logloss:0.446889\n",
      "[29]\tvalidation_0-logloss:0.446804\n",
      "[30]\tvalidation_0-logloss:0.447175\n",
      "[31]\tvalidation_0-logloss:0.445755\n",
      "[32]\tvalidation_0-logloss:0.446706\n",
      "[33]\tvalidation_0-logloss:0.445573\n",
      "[34]\tvalidation_0-logloss:0.444626\n",
      "[35]\tvalidation_0-logloss:0.443287\n",
      "[36]\tvalidation_0-logloss:0.444204\n",
      "[37]\tvalidation_0-logloss:0.443447\n",
      "[38]\tvalidation_0-logloss:0.444333\n",
      "[39]\tvalidation_0-logloss:0.446291\n",
      "[40]\tvalidation_0-logloss:0.445807\n",
      "[41]\tvalidation_0-logloss:0.444851\n",
      "[42]\tvalidation_0-logloss:0.444277\n",
      "[43]\tvalidation_0-logloss:0.44475\n",
      "[44]\tvalidation_0-logloss:0.445406\n",
      "[45]\tvalidation_0-logloss:0.445077\n",
      "Stopping. Best iteration:\n",
      "[35]\tvalidation_0-logloss:0.443287\n",
      "\n"
     ]
    },
    {
     "data": {
      "text/plain": [
       "XGBClassifier(base_score=0.5, colsample_bylevel=1, colsample_bytree=1,\n",
       "       gamma=0, learning_rate=0.1, max_delta_step=0, max_depth=3,\n",
       "       min_child_weight=1, missing=None, n_estimators=100, nthread=-1,\n",
       "       objective='binary:logistic', reg_alpha=0, reg_lambda=1,\n",
       "       scale_pos_weight=1, seed=0, silent=True, subsample=1)"
      ]
     },
     "execution_count": 21,
     "metadata": {},
     "output_type": "execute_result"
    },
    {
     "name": "stdout",
     "output_type": "stream",
     "text": [
      "Accuracy: 75.76%\n"
     ]
    }
   ],
   "source": [
    "data = pd.read_csv(\n",
    "    'https://archive.ics.uci.edu/ml/machine-learning-databases/pima-indians-diabetes/pima-indians-diabetes.data',\n",
    "    header=None)\n",
    "data = np.array(data)\n",
    "X = data[:, :-1]\n",
    "y = data[:, -1]\n",
    "X_train, X_test, y_train, y_test = sklearn.model_selection.train_test_split(\n",
    "    X, y, test_size=0.3)\n",
    "mdl = xgb.XGBClassifier()\n",
    "eval_set = [(X_test, y_test),]\n",
    "mdl.fit(X_train,\n",
    "        y_train,\n",
    "        early_stopping_rounds=10,\n",
    "        eval_metric=\"logloss\",\n",
    "        eval_set=eval_set,\n",
    "        verbose=True)\n",
    "\n",
    "y_pred = mdl.predict(X_test)\n",
    "predictions = [round(value) for value in y_pred]\n",
    "accuracy = sklearn.metrics.accuracy_score(y_test, predictions)\n",
    "print(\"Accuracy: %.2f%%\" % (accuracy * 100.0))"
   ]
  },
  {
   "cell_type": "markdown",
   "metadata": {},
   "source": [
    "## Feature Importance"
   ]
  },
  {
   "cell_type": "code",
   "execution_count": 23,
   "metadata": {
    "collapsed": false,
    "scrolled": true
   },
   "outputs": [
    {
     "data": {
      "text/plain": [
       "array([ 0.04081633,  0.21088435,  0.08503401,  0.06462585,  0.0952381 ,\n",
       "        0.19727892,  0.15986395,  0.1462585 ], dtype=float32)"
      ]
     },
     "execution_count": 23,
     "metadata": {},
     "output_type": "execute_result"
    },
    {
     "data": {
      "text/plain": [
       "<matplotlib.axes._subplots.AxesSubplot at 0x10ef48550>"
      ]
     },
     "execution_count": 23,
     "metadata": {},
     "output_type": "execute_result"
    },
    {
     "data": {
      "image/png": "[encoded data removed]",
      "text/plain": [
       "<matplotlib.figure.Figure at 0x10eefb610>"
      ]
     },
     "metadata": {},
     "output_type": "display_data"
    }
   ],
   "source": [
    "mdl.feature_importances_\n",
    "\n",
    "xgb.plot_importance(mdl)"
   ]
  },
  {
   "cell_type": "markdown",
   "metadata": {},
   "source": [
    "## How to Configure Gradient Boosting"
   ]
  },
  {
   "cell_type": "markdown",
   "metadata": {},
   "source": [
    "A number of configuration heuristics were published in the original gradient boosting papers. They can be summarized as:\n",
    "\n",
    "Learning rate or shrinkage (learning_rate in XGBoost) should be set to 0.1 or lower, and smaller values will require the addition of more trees.\n",
    "The depth of trees (tree_depth in XGBoost) should be configured in the range of 2-to-8, where not much benefit is seen with deeper trees.\n",
    "Row sampling (subsample in XGBoost) should be configured in the range of 30% to 80% of the training dataset, and compared to a value of 100% for no sampling."
   ]
  },
  {
   "cell_type": "markdown",
   "metadata": {},
   "source": [
    "## Hyperparameter Tuning"
   ]
  },
  {
   "cell_type": "code",
   "execution_count": 26,
   "metadata": {
    "collapsed": true
   },
   "outputs": [],
   "source": [
    "n_estimators = [50, 100, 150, 200]\n",
    "max_depth = [2, 4, 6, 8]\n",
    "param_grid = dict(max_depth=max_depth, n_estimators=n_estimators)\n",
    "\n",
    "kfold = sklearn.model_selection.StratifiedKFold(n_splits=10, shuffle=True, random_state=7)\n",
    "grid_search = sklearn.model_selection.GridSearchCV(mdl, param_grid, scoring=\"neg_log_loss\", n_jobs=-1, cv=kfold, verbose=1)\n",
    "result = grid_search.fit(X, y)"
   ]
  },
  {
   "cell_type": "markdown",
   "metadata": {},
   "source": [
    "The parameters to consider tuning are:\n",
    "\n",
    "- The number and size of trees (n_estimators and max_depth).\n",
    "- The learning rate and number of trees (learning_rate and n_estimators).\n",
    "- The row and column subsampling rates (subsample, colsample_bytree and colsample_bylevel)."
   ]
  },
  {
   "cell_type": "code",
   "execution_count": 49,
   "metadata": {
    "collapsed": false,
    "scrolled": true
   },
   "outputs": [
    {
     "data": {
      "text/plain": [
       "XGBClassifier(base_score=0.5, colsample_bylevel=1, colsample_bytree=1,\n",
       "       gamma=0, learning_rate=0.1, max_delta_step=0, max_depth=2,\n",
       "       min_child_weight=1, missing=None, n_estimators=100, nthread=-1,\n",
       "       objective='binary:logistic', reg_alpha=0, reg_lambda=1,\n",
       "       scale_pos_weight=1, seed=0, silent=True, subsample=1)"
      ]
     },
     "execution_count": 49,
     "metadata": {},
     "output_type": "execute_result"
    }
   ],
   "source": [
    "result.best_estimator_"
   ]
  },
  {
   "cell_type": "markdown",
   "metadata": {},
   "source": [
    "# References\n",
    "- https://github.com/dmlc/xgboost/blob/master/demo/guide-python/sklearn_examples.py\n",
    "- http://machinelearningmastery.com/xgboost-python-mini-course/\n",
    "- https://github.com/yang-zhang/xgboost/tree/master/demo\n",
    "- https://github.com/dmlc/xgboost/tree/master/demo/kaggle-higgs\n",
    "- [Owen Zhang Slides](https://www.slideshare.net/odsc/owen-zhangopen-sourcetoolsanddscompetitions1/12)"
   ]
  }
 ],
 "metadata": {
  "anaconda-cloud": {},
  "kernelspec": {
   "display_name": "Python [default]",
   "language": "python",
   "name": "python2"
  },
  "language_info": {
   "codemirror_mode": {
    "name": "ipython",
    "version": 2
   },
   "file_extension": ".py",
   "mimetype": "text/x-python",
   "name": "python",
   "nbconvert_exporter": "python",
   "pygments_lexer": "ipython2",
   "version": "2.7.12"
  },
  "toc": {
   "colors": {
    "hover_highlight": "#DAA520",
    "running_highlight": "#FF0000",
    "selected_highlight": "#FFD700"
   },
   "moveMenuLeft": true,
   "nav_menu": {
    "height": "12px",
    "width": "252px"
   },
   "navigate_menu": true,
   "number_sections": true,
   "sideBar": true,
   "threshold": 4,
   "toc_cell": false,
   "toc_section_display": "block",
   "toc_window_display": true
  }
 },
 "nbformat": 4,
 "nbformat_minor": 1
}
