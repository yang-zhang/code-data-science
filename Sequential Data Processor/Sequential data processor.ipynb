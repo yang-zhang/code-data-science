{
 "cells": [
  {
   "cell_type": "markdown",
   "metadata": {},
   "source": [
    "Using data from [Kaggle: Click-Through Rate Prediction](https://www.kaggle.com/c/avazu-ctr-prediction)\n",
    "```\n",
    "$ head -n 100 train > train_head\n",
    "```\n",
    "Learning from the post [Beat the benchmark with less than 1MB of memory.](https://www.kaggle.com/c/avazu-ctr-prediction/discussion/10927)"
   ]
  },
  {
   "cell_type": "code",
   "execution_count": 1,
   "metadata": {
    "collapsed": true
   },
   "outputs": [],
   "source": [
    "from csv import DictReader"
   ]
  },
  {
   "cell_type": "code",
   "execution_count": 2,
   "metadata": {
    "collapsed": false
   },
   "outputs": [
    {
     "name": "stdout",
     "output_type": "stream",
     "text": [
      "Sequential data processor.ipynb  train\r\n"
     ]
    }
   ],
   "source": [
    "ls"
   ]
  },
  {
   "cell_type": "code",
   "execution_count": null,
   "metadata": {
    "collapsed": true
   },
   "outputs": [],
   "source": [
    "list(enumerate(DictReader(open('train_head'))))"
   ]
  },
  {
   "cell_type": "code",
   "execution_count": 7,
   "metadata": {
    "collapsed": false
   },
   "outputs": [
    {
     "name": "stdout",
     "output_type": "stream",
     "text": [
      "0\n",
      "OrderedDict([('id', '1000009418151094273'), ('click', '0'), ('hour', '14102100'), ('C1', '1005'), ('banner_pos', '0'), ('site_id', '1fbe01fe'), ('site_domain', 'f3845767'), ('site_category', '28905ebd'), ('app_id', 'ecad2386'), ('app_domain', '7801e8d9'), ('app_category', '07d7df22'), ('device_id', 'a99f214a'), ('device_ip', 'ddd2926e'), ('device_model', '44956a24'), ('device_type', '1'), ('device_conn_type', '2'), ('C14', '15706'), ('C15', '320'), ('C16', '50'), ('C17', '1722'), ('C18', '0'), ('C19', '35'), ('C20', '-1'), ('C21', '79')])\n",
      "1\n",
      "OrderedDict([('id', '10000169349117863715'), ('click', '0'), ('hour', '14102100'), ('C1', '1005'), ('banner_pos', '0'), ('site_id', '1fbe01fe'), ('site_domain', 'f3845767'), ('site_category', '28905ebd'), ('app_id', 'ecad2386'), ('app_domain', '7801e8d9'), ('app_category', '07d7df22'), ('device_id', 'a99f214a'), ('device_ip', '96809ac8'), ('device_model', '711ee120'), ('device_type', '1'), ('device_conn_type', '0'), ('C14', '15704'), ('C15', '320'), ('C16', '50'), ('C17', '1722'), ('C18', '0'), ('C19', '35'), ('C20', '100084'), ('C21', '79')])\n",
      "2\n",
      "OrderedDict([('id', '10000371904215119486'), ('click', '0'), ('hour', '14102100'), ('C1', '1005'), ('banner_pos', '0'), ('site_id', '1fbe01fe'), ('site_domain', 'f3845767'), ('site_category', '28905ebd'), ('app_id', 'ecad2386'), ('app_domain', '7801e8d9'), ('app_category', '07d7df22'), ('device_id', 'a99f214a'), ('device_ip', 'b3cf8def'), ('device_model', '8a4875bd'), ('device_type', '1'), ('device_conn_type', '0'), ('C14', '15704'), ('C15', '320'), ('C16', '50'), ('C17', '1722'), ('C18', '0'), ('C19', '35'), ('C20', '100084'), ('C21', '79')])\n"
     ]
    }
   ],
   "source": [
    "for t, row in list(enumerate(DictReader(open('train_head'))))[:3]:\n",
    "    print(t)\n",
    "    print(row)"
   ]
  },
  {
   "cell_type": "code",
   "execution_count": null,
   "metadata": {
    "collapsed": true
   },
   "outputs": [],
   "source": []
  }
 ],
 "metadata": {
  "kernelspec": {
   "display_name": "Python 3",
   "language": "python",
   "name": "python3"
  },
  "language_info": {
   "codemirror_mode": {
    "name": "ipython",
    "version": 3
   },
   "file_extension": ".py",
   "mimetype": "text/x-python",
   "name": "python",
   "nbconvert_exporter": "python",
   "pygments_lexer": "ipython3",
   "version": "3.6.0"
  },
  "toc": {
   "colors": {
    "hover_highlight": "#DAA520",
    "running_highlight": "#FF0000",
    "selected_highlight": "#FFD700"
   },
   "moveMenuLeft": true,
   "nav_menu": {
    "height": "11px",
    "width": "251px"
   },
   "navigate_menu": true,
   "number_sections": true,
   "sideBar": true,
   "threshold": 4,
   "toc_cell": false,
   "toc_section_display": "block",
   "toc_window_display": false,
   "widenNotebook": false
  }
 },
 "nbformat": 4,
 "nbformat_minor": 2
}
